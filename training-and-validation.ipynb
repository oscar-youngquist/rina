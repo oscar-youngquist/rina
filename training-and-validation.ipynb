{
 "cells": [
  {
   "cell_type": "markdown",
   "metadata": {},
   "source": [
    "# Neural-Fly: Domain Adversarially Invariant Meta Learning"
   ]
  },
  {
   "cell_type": "markdown",
   "metadata": {},
   "source": [
    "This script loads quadrotor flight data in different wind conditions, trains a wind invariant representation of the unmodeled aerodynamics, and tests the performance of the model when adapting to new data in different wind conditions. "
   ]
  },
  {
   "cell_type": "markdown",
   "metadata": {},
   "source": [
    "## Import libraries"
   ]
  },
  {
   "cell_type": "code",
   "execution_count": 1,
   "metadata": {},
   "outputs": [
    {
     "name": "stderr",
     "output_type": "stream",
     "text": [
      "/home/hcr/anaconda3/envs/rina/lib/python3.12/site-packages/torch/__init__.py:696: UserWarning: torch.set_default_tensor_type() is deprecated as of PyTorch 2.1, please use torch.set_default_dtype() and torch.set_default_device() as alternatives. (Triggered internally at /opt/conda/conda-bld/pytorch_1708025845206/work/torch/csrc/tensor/python_tensor.cpp:451.)\n",
      "  _C._set_default_tensor_type(t)\n"
     ]
    }
   ],
   "source": [
    "import numpy as np\n",
    "import matplotlib.pyplot as plt\n",
    "\n",
    "import torch\n",
    "import torch.nn as nn\n",
    "import torch.nn.functional as F\n",
    "import torch.optim as optim\n",
    "torch.set_default_tensor_type('torch.DoubleTensor')\n",
    "from torch.utils.data import Dataset, DataLoader\n",
    "from torch.utils.data.dataset import random_split\n",
    "import os \n",
    "import utils\n",
    "import mlmodel\n",
    "\n",
    "from datetime import datetime\n",
    "import re"
   ]
  },
  {
   "cell_type": "code",
   "execution_count": 2,
   "metadata": {},
   "outputs": [
    {
     "name": "stdout",
     "output_type": "stream",
     "text": [
      "running on linux, setting 2 workers\n"
     ]
    }
   ],
   "source": [
    "import sys\n",
    "if sys.platform == 'win32':\n",
    "    NUM_WORKERS = 0 # Windows does not support multiprocessing\n",
    "else:\n",
    "    NUM_WORKERS = 2\n",
    "print('running on ' + sys.platform + ', setting ' + str(NUM_WORKERS) + ' workers')"
   ]
  },
  {
   "cell_type": "markdown",
   "metadata": {},
   "source": [
    "## Load the data and create some simple visualizations"
   ]
  },
  {
   "cell_type": "code",
   "execution_count": 3,
   "metadata": {},
   "outputs": [
    {
     "name": "stdout",
     "output_type": "stream",
     "text": [
      "/home/hcr/Research/DARoSLab/rina/training_results/05_16_202413_27_47_m\n",
      "rina_dim-a-3_q-q_dot-tau\n"
     ]
    }
   ],
   "source": [
    "dim_a = 3\n",
    "features = ['q', 'q_dot', 'tau']\n",
    "label = 'tau_residual_m'\n",
    "\n",
    "labels = [\"FR_hip\", \"FR_knee\", \"FR_foot\", \"FL_hip\", \"FL_knee\", \"FL_foot\",\n",
    "          \"RR_hip\", \"RR_knee\", \"RR_foot\", \"RL_hip\", \"RL_knee\", \"RL_foot\"]\n",
    "\n",
    "# Training data collected from the neural-fly drone\n",
    "dataset = 'rina' \n",
    "# dataset_folder = '/home/hcr/Research/DARoSLab/DARoS-Core/lcm_converted_log/training_data/'\n",
    "dataset_folder = '/home/hcr/Research/DARoSLab/DARoS-Core/lcm_converted_log/03_04_2024/unitree_estimate/training_data/'\n",
    "\n",
    "\n",
    "now = datetime.now() # current date and time\n",
    "date_time = now.strftime(\"%m/%d/%Y%H:%M:%S\")\n",
    "date_time = re.sub('[^0-9a-zA-Z]+', '_', date_time)\n",
    "\n",
    "date_time += \"_m\"\n",
    "\n",
    "cwd = os.getcwd()\n",
    "\n",
    "output_path_base = os.path.join(cwd, \"training_results\", date_time)\n",
    "\n",
    "if not os.path.exists(output_path_base):\n",
    "    os.makedirs(output_path_base)\n",
    "\n",
    "print(output_path_base)\n",
    "\n",
    "# # Training data collected from an intel aero drone\n",
    "# dataset = 'neural-fly-transfer'\n",
    "# dataset_folder = 'data/training-transfer'\n",
    "# hover_pwm = 910 # mean hover pwm for neural-fly drone\n",
    "# intel_hover_pwm = 1675 # mean hover pwm for intel-aero drone\n",
    "# hover_pwm_ratio = hover_pwm / intel_hover_pwm # scaling ratio from system id\n",
    "\n",
    "modelname = f\"{dataset}_dim-a-{dim_a}_{'-'.join(features)}\" # 'intel-aero_fa-num-Tsp_v-q-pwm'\n",
    "\n",
    "print(modelname)"
   ]
  },
  {
   "cell_type": "code",
   "execution_count": 4,
   "metadata": {},
   "outputs": [
    {
     "name": "stdout",
     "output_type": "stream",
     "text": [
      "['0lb.csv', '5lb.csv', '10lb.csv']\n",
      "0lb\n",
      "5lb\n",
      "10lb\n",
      "\n",
      "-----------------------------------------------\n",
      "\n",
      "['0lb.csv', '5lb.csv', '10lb.csv']\n",
      "0lb\n",
      "5lb\n",
      "10lb\n"
     ]
    }
   ],
   "source": [
    "RawData = utils.load_data(dataset_folder)\n",
    "Data = utils.format_data(RawData, features=features, output=label)\n",
    "\n",
    "print(\"\\n-----------------------------------------------\\n\")\n",
    "\n",
    "testdata_folder = \"/home/hcr/Research/DARoSLab/DARoS-Core/lcm_converted_log/03_04_2024/unitree_estimate/eval_data/\"\n",
    "RawData = utils.load_data(testdata_folder) # expnames='(baseline_)([0-9]*|no)wind'\n",
    "TestData = utils.format_data(RawData, features=features, output=label) # wind condition label, C, will not make sense for this data - that's okay since C is only used in the training process"
   ]
  },
  {
   "cell_type": "code",
   "execution_count": 5,
   "metadata": {},
   "outputs": [],
   "source": [
    "training_data_images = os.path.join(output_path_base, \"training_data_images\")\n",
    "test_data_images = os.path.join(output_path_base, \"test_data_images\")\n",
    "\n",
    "if not os.path.exists(training_data_images):\n",
    "    os.makedirs(training_data_images)\n",
    "\n",
    "if not os.path.exists(test_data_images):\n",
    "    os.makedirs(test_data_images)\n",
    "\n",
    "for data in Data:\n",
    "    utils.plot_subdataset(data, features, labels, os.path.join(training_data_images, \"{:s}.png\".format(data.meta['condition'])), title_prefix=\"(Training data)\")\n",
    "\n",
    "for data in TestData:\n",
    "    utils.plot_subdataset(data, features, labels, os.path.join(test_data_images, \"{:s}.png\".format(data.meta['condition'])), title_prefix=\"(Testing Data)\")"
   ]
  },
  {
   "cell_type": "markdown",
   "metadata": {},
   "source": [
    "## Initialize some other hyperparameters"
   ]
  },
  {
   "cell_type": "code",
   "execution_count": 6,
   "metadata": {},
   "outputs": [
    {
     "name": "stdout",
     "output_type": "stream",
     "text": [
      "dims of (x, y) are (36, 12)\n",
      "there are 3 different conditions\n"
     ]
    }
   ],
   "source": [
    "options = {}\n",
    "options['dim_x'] = Data[0].X.shape[1]\n",
    "options['dim_y'] = Data[0].Y.shape[1]\n",
    "options['num_c'] = len(Data)\n",
    "print('dims of (x, y) are', (options['dim_x'], options['dim_y']))\n",
    "print('there are ' + str(options['num_c']) + ' different conditions')"
   ]
  },
  {
   "cell_type": "code",
   "execution_count": 7,
   "metadata": {},
   "outputs": [],
   "source": [
    "# Set hyperparameters\n",
    "options['features'] = features\n",
    "options['dim_a'] = dim_a\n",
    "options['loss_type'] = 'crossentropy-loss'\n",
    "\n",
    "options['shuffle'] = True # True: shuffle trajectories to data points\n",
    "options['K_shot'] = 32 # number of K-shot for least square on a\n",
    "options['phi_shot'] = 256 # batch size for training phi\n",
    "\n",
    "options['alpha'] = 0.01 # adversarial regularization loss\n",
    "options['learning_rate'] = 5e-4\n",
    "options['frequency_h'] = 2 # how many times phi is updated between h updates, on average\n",
    "options['SN'] = 2. # maximum single layer spectral norm of phi\n",
    "options['gamma'] = 10. # max 2-norm of a\n",
    "options['num_epochs'] = 2000\n",
    "\n",
    "\n",
    "options['output_path'] = output_path_base"
   ]
  },
  {
   "cell_type": "markdown",
   "metadata": {},
   "source": [
    "# Dataset Generation"
   ]
  },
  {
   "cell_type": "markdown",
   "metadata": {},
   "source": [
    "The adaptation dataset will be used to update $a$ in each training loop.\n",
    "The training dataset will be used to train $\\phi$ in each training loop."
   ]
  },
  {
   "cell_type": "code",
   "execution_count": 8,
   "metadata": {},
   "outputs": [],
   "source": [
    "# Trainset = []\n",
    "# Adaptset = []\n",
    "Trainloader = []\n",
    "Adaptloader = []\n",
    "for i in range(options['num_c']):\n",
    "    fullset = mlmodel.MyDataset(Data[i].X, Data[i].Y, Data[i].C)\n",
    "    \n",
    "    l = len(Data[i].X)\n",
    "    if options['shuffle']:\n",
    "        trainset, adaptset = random_split(fullset, [int(2/3*l), l-int(2/3*l)])\n",
    "    else:\n",
    "        trainset = mlmodel.MyDataset(Data[i].X[:int(2/3*l)], Data[i].Y[:int(2/3*l)], Data[i].C) \n",
    "        adaptset = mlmodel.MyDataset(Data[i].X[int(2/3*l):], Data[i].Y[int(2/3*l):], Data[i].C)\n",
    "\n",
    "    trainloader = torch.utils.data.DataLoader(trainset, batch_size=options['phi_shot'], shuffle=options['shuffle'], num_workers=NUM_WORKERS)\n",
    "    adaptloader = torch.utils.data.DataLoader(adaptset, batch_size=options['K_shot'], shuffle=options['shuffle'], num_workers=NUM_WORKERS)\n",
    "   \n",
    "    # Trainset.append(trainset)\n",
    "    # Adaptset.append(adaptset)\n",
    "    Trainloader.append(trainloader) # for training phi\n",
    "    Adaptloader.append(adaptloader) # for LS on a"
   ]
  },
  {
   "cell_type": "markdown",
   "metadata": {},
   "source": [
    "# Domain Adversarially Invariant Meta Learning\n",
    "\n",
    "Assume the state $x\\in\\mathbb{R}^n$ and $c$ is hidden state used to represent changing environment. We are interested in learning some function $f(x(t),c(t))$. $f(x(t),c(t))$ can be separated into three terms: $$f(x(t),c(t))=\\phi(x(t))a(c(t))+d(t),$$\n",
    "where $\\phi(x(t))$ captures the $c$-variant part and $a(c(t))\\in\\mathbb{R}^m$ is implicitly a function of the hidden state $c(t)$. Finally, $d(t)$ is the residual noise term.\n",
    "\n",
    "We want to learn $\\phi(x)$ such that it doesn't include any information about $c$. To reach this goal, we introduce another neural network $h$ where $h(\\phi(x))$ tries to predict $c$.\n",
    "\n",
    "The loss function is given as\n",
    "$$\\max_h\\min_{\\phi, \\left\\{a_{c_j}\\right\\}_j}\\sum_{j}\\sum_{i}\\left\\|\\phi(x^{(i)}_{c_j})a_{c_j}-f(x^{(i)}_{c_j},c_j)\\right\\|^2-\\alpha\\cdot\\text{CrossEntropy}\\left(h(\\phi(x^{(i)}_{c_j})),j\\right)$$\n",
    "Note that the $\\text{CrossEntropy-loss}$ will not require physical encoding of $c_j$ in training, only a label for $c$ that corresponds to the subdataset (that is, the label $c$ has no physical meaning)."
   ]
  },
  {
   "cell_type": "markdown",
   "metadata": {},
   "source": [
    "# Initialize the models"
   ]
  },
  {
   "cell_type": "code",
   "execution_count": 9,
   "metadata": {},
   "outputs": [],
   "source": [
    "# Store the model class definition in an external file so they can be referenced outside this script\n",
    "phi_net = mlmodel.Phi_Net(options)\n",
    "h_net = mlmodel.H_Net_CrossEntropy(options)"
   ]
  },
  {
   "cell_type": "code",
   "execution_count": 10,
   "metadata": {},
   "outputs": [],
   "source": [
    "criterion = nn.MSELoss()\n",
    "criterion_h = nn.CrossEntropyLoss()\n",
    "optimizer_h = optim.Adam(h_net.parameters(), lr=options['learning_rate'])\n",
    "optimizer_phi = optim.Adam(phi_net.parameters(), lr=options['learning_rate'])"
   ]
  },
  {
   "cell_type": "markdown",
   "metadata": {},
   "source": [
    "# Meta-Training Algorithm\n",
    "\n",
    "**Step 0: sample $c$, and sample $B+K$ data points in correponding subdataset $\\{x_i,c,f(x_i,c)\\}_{i}$**\n",
    "\n",
    "**Step 1: estimate $a$ using least-square**\n",
    "\n",
    "$K$ data points (sampled from the same wind condition $c$) are used to compute $a$ using least-squares, i.e., adaptation:\n",
    "$$\n",
    "\\underbrace{\n",
    "    \\begin{bmatrix}\n",
    "        \\phi(x_1) \\\\ \\phi(x_2) \\\\ \\vdots \\\\ \\phi(x_K) \n",
    "    \\end{bmatrix}}\n",
    "    _{\\Phi\\in\\mathbb{R}^{K\\times \\dim(a)}}\n",
    "\\cdot\n",
    "\\underbrace{\n",
    "    \\begin{bmatrix}\n",
    "        a_1 & \\cdots & a_{\\dim(y)} \n",
    "    \\end{bmatrix}}\n",
    "    _{a\\in\\mathbb{R}^{\\dim(a)\\times \\dim(y)}}\n",
    "=\n",
    "\\underbrace{\n",
    "    \\begin{bmatrix}\n",
    "        f_1(x_1) & \\cdots & f_{\\dim(y)}(x_1) \\\\ f_1(x_2) & \\cdots & f_{\\dim(y)}(x_2) \\\\ \\vdots & \\vdots & \\vdots\\\\ f_1(x_K) & \\cdots & f_{\\dim(y)}(x_K) \n",
    "    \\end{bmatrix}}\n",
    "    _{Y\\in\\mathbb{R}^{K\\times \\dim(y)}}\n",
    "$$\n",
    "\n",
    "The least square solution is given by\n",
    "$$a=(\\Phi^\\top\\Phi)^{-1}\\Phi^\\top Y$$\n",
    "Normalization on $a$ is implemented to avoid ambiguity of $\\phi(x)a$ (since $\\phi(x)a=(0.1\\phi(x))\\cdot(10a)$):\n",
    "$$a\\leftarrow \\gamma\\cdot\\frac{a}{\\|a\\|_F},\\quad\\text{if}\\,\\,\\|a\\|_F>\\gamma$$\n",
    "Note that $a$ is an implicit function of $\\phi$.\n",
    "\n",
    "**Step 2: fix $h$ and train $\\phi$**\n",
    "\n",
    "With this $a$, another $B$ data points (with same $c$) are used for gradient descent with loss\n",
    "$$\\mathcal{L}(\\phi)=\\|f(x)-\\phi(x)a\\|_2^2-\\alpha\\cdot\\|h(\\phi(x))-c\\|_2^2$$\n",
    "\n",
    "**Step 3: fix $\\phi$ and train discriminator $h$**\n",
    "\n",
    "Finally, these $B$ data points are used again for gradient descent on $h$ with loss\n",
    "$$\\mathcal{L}(h)=\\|h(\\phi(x))-c\\|_2^2$$\n",
    "We may run this step less frequently than step 2, to improve stability in training (a trick from GAN)."
   ]
  },
  {
   "cell_type": "code",
   "execution_count": 11,
   "metadata": {
    "tags": []
   },
   "outputs": [
    {
     "name": "stderr",
     "output_type": "stream",
     "text": [
      "<>:47: SyntaxWarning: invalid escape sequence '\\p'\n",
      "<>:47: SyntaxWarning: invalid escape sequence '\\p'\n",
      "/tmp/ipykernel_123120/2032337320.py:47: SyntaxWarning: invalid escape sequence '\\p'\n",
      "  '''\n"
     ]
    },
    {
     "name": "stdout",
     "output_type": "stream",
     "text": [
      "[1] loss_f: 91.48 loss_c: 1.10\n",
      "[11] loss_f: 64.21 loss_c: 1.09\n",
      "[21] loss_f: 48.10 loss_c: 1.10\n",
      "[31] loss_f: 43.13 loss_c: 1.09\n",
      "[41] loss_f: 32.89 loss_c: 1.14\n",
      "[51] loss_f: 23.06 loss_c: 1.15\n",
      "[61] loss_f: 23.79 loss_c: 1.17\n",
      "[71] loss_f: 27.60 loss_c: 1.17\n",
      "[81] loss_f: 29.69 loss_c: 1.18\n",
      "[91] loss_f: 26.88 loss_c: 1.18\n",
      "[101] loss_f: 23.47 loss_c: 1.16\n",
      "[111] loss_f: 31.50 loss_c: 1.15\n",
      "[121] loss_f: 21.34 loss_c: 1.13\n",
      "[131] loss_f: 34.14 loss_c: 1.11\n",
      "[141] loss_f: 21.82 loss_c: 1.11\n",
      "[151] loss_f: 18.65 loss_c: 1.11\n",
      "[161] loss_f: 25.09 loss_c: 1.12\n",
      "[171] loss_f: 33.13 loss_c: 1.13\n",
      "[181] loss_f: 24.79 loss_c: 1.12\n",
      "[191] loss_f: 23.17 loss_c: 1.11\n"
     ]
    },
    {
     "name": "stderr",
     "output_type": "stream",
     "text": [
      "Traceback (most recent call last):\n",
      "  File \"/home/hcr/anaconda3/envs/rina/lib/python3.12/multiprocessing/util.py\", line 300, in _run_finalizers\n",
      "    finalizer()\n",
      "  File \"/home/hcr/anaconda3/envs/rina/lib/python3.12/multiprocessing/util.py\", line 224, in __call__\n",
      "    res = self._callback(*self._args, **self._kwargs)\n",
      "          ^^^^^^^^^^^^^^^^^^^^^^^^^^^^^^^^^^^^^^^^^^^\n",
      "  File \"/home/hcr/anaconda3/envs/rina/lib/python3.12/multiprocessing/util.py\", line 133, in _remove_temp_dir\n",
      "    rmtree(tempdir)\n",
      "  File \"/home/hcr/anaconda3/envs/rina/lib/python3.12/shutil.py\", line 784, in rmtree\n",
      "    onexc(os.rmdir, path, err)\n",
      "  File \"/home/hcr/anaconda3/envs/rina/lib/python3.12/shutil.py\", line 782, in rmtree\n",
      "    os.rmdir(path, dir_fd=dir_fd)\n",
      "OSError: [Errno 39] Directory not empty: '/tmp/pymp-g9tpmgd5'\n"
     ]
    },
    {
     "name": "stdout",
     "output_type": "stream",
     "text": [
      "[201] loss_f: 33.88 loss_c: 1.10\n",
      "[211] loss_f: 30.06 loss_c: 1.09\n",
      "[221] loss_f: 23.67 loss_c: 1.09\n",
      "[231] loss_f: 25.11 loss_c: 1.09\n",
      "[241] loss_f: 26.76 loss_c: 1.09\n",
      "[251] loss_f: 23.98 loss_c: 1.10\n",
      "[261] loss_f: 27.32 loss_c: 1.09\n",
      "[271] loss_f: 23.54 loss_c: 1.09\n",
      "[281] loss_f: 24.81 loss_c: 1.09\n",
      "[291] loss_f: 24.68 loss_c: 1.09\n",
      "[301] loss_f: 31.36 loss_c: 1.09\n",
      "[311] loss_f: 23.76 loss_c: 1.08\n",
      "[321] loss_f: 29.70 loss_c: 1.08\n",
      "[331] loss_f: 27.69 loss_c: 1.08\n",
      "[341] loss_f: 16.90 loss_c: 1.10\n",
      "[351] loss_f: 17.03 loss_c: 1.09\n",
      "[361] loss_f: 26.76 loss_c: 1.09\n",
      "[371] loss_f: 25.73 loss_c: 1.09\n",
      "[381] loss_f: 28.12 loss_c: 1.09\n",
      "[391] loss_f: 36.29 loss_c: 1.08\n",
      "[401] loss_f: 20.10 loss_c: 1.08\n",
      "[411] loss_f: 21.70 loss_c: 1.08\n",
      "[421] loss_f: 25.59 loss_c: 1.08\n",
      "[431] loss_f: 22.85 loss_c: 1.07\n",
      "[441] loss_f: 24.87 loss_c: 1.08\n",
      "[451] loss_f: 21.28 loss_c: 1.08\n",
      "[461] loss_f: 19.72 loss_c: 1.07\n",
      "[471] loss_f: 18.80 loss_c: 1.06\n",
      "[481] loss_f: 24.91 loss_c: 1.08\n",
      "[491] loss_f: 22.12 loss_c: 1.08\n",
      "[501] loss_f: 19.96 loss_c: 1.07\n",
      "[511] loss_f: 22.25 loss_c: 1.05\n"
     ]
    },
    {
     "name": "stderr",
     "output_type": "stream",
     "text": [
      "Traceback (most recent call last):\n",
      "  File \"/home/hcr/anaconda3/envs/rina/lib/python3.12/multiprocessing/util.py\", line 300, in _run_finalizers\n",
      "    finalizer()\n",
      "  File \"/home/hcr/anaconda3/envs/rina/lib/python3.12/multiprocessing/util.py\", line 224, in __call__\n",
      "    res = self._callback(*self._args, **self._kwargs)\n",
      "          ^^^^^^^^^^^^^^^^^^^^^^^^^^^^^^^^^^^^^^^^^^^\n",
      "  File \"/home/hcr/anaconda3/envs/rina/lib/python3.12/multiprocessing/util.py\", line 133, in _remove_temp_dir\n",
      "    rmtree(tempdir)\n",
      "  File \"/home/hcr/anaconda3/envs/rina/lib/python3.12/shutil.py\", line 784, in rmtree\n",
      "    onexc(os.rmdir, path, err)\n",
      "  File \"/home/hcr/anaconda3/envs/rina/lib/python3.12/shutil.py\", line 782, in rmtree\n",
      "    os.rmdir(path, dir_fd=dir_fd)\n",
      "OSError: [Errno 39] Directory not empty: '/tmp/pymp-iwkl763b'\n"
     ]
    },
    {
     "name": "stdout",
     "output_type": "stream",
     "text": [
      "[521] loss_f: 28.55 loss_c: 1.06\n",
      "[531] loss_f: 23.83 loss_c: 1.05\n",
      "[541] loss_f: 22.77 loss_c: 1.07\n",
      "[551] loss_f: 16.47 loss_c: 1.06\n",
      "[561] loss_f: 27.88 loss_c: 1.05\n"
     ]
    },
    {
     "name": "stderr",
     "output_type": "stream",
     "text": [
      "Traceback (most recent call last):\n",
      "  File \"/home/hcr/anaconda3/envs/rina/lib/python3.12/multiprocessing/util.py\", line 300, in _run_finalizers\n",
      "    finalizer()\n",
      "  File \"/home/hcr/anaconda3/envs/rina/lib/python3.12/multiprocessing/util.py\", line 224, in __call__\n",
      "    res = self._callback(*self._args, **self._kwargs)\n",
      "          ^^^^^^^^^^^^^^^^^^^^^^^^^^^^^^^^^^^^^^^^^^^\n",
      "  File \"/home/hcr/anaconda3/envs/rina/lib/python3.12/multiprocessing/util.py\", line 133, in _remove_temp_dir\n",
      "    rmtree(tempdir)\n",
      "  File \"/home/hcr/anaconda3/envs/rina/lib/python3.12/shutil.py\", line 784, in rmtree\n",
      "    onexc(os.rmdir, path, err)\n",
      "  File \"/home/hcr/anaconda3/envs/rina/lib/python3.12/shutil.py\", line 782, in rmtree\n",
      "    os.rmdir(path, dir_fd=dir_fd)\n",
      "OSError: [Errno 39] Directory not empty: '/tmp/pymp-d1t1_cse'\n"
     ]
    },
    {
     "name": "stdout",
     "output_type": "stream",
     "text": [
      "[571] loss_f: 23.09 loss_c: 1.06\n",
      "[581] loss_f: 22.75 loss_c: 1.04\n",
      "[591] loss_f: 14.98 loss_c: 1.05\n",
      "[601] loss_f: 20.20 loss_c: 1.04\n",
      "[611] loss_f: 24.21 loss_c: 1.04\n",
      "[621] loss_f: 22.82 loss_c: 1.04\n"
     ]
    },
    {
     "name": "stderr",
     "output_type": "stream",
     "text": [
      "Traceback (most recent call last):\n",
      "  File \"/home/hcr/anaconda3/envs/rina/lib/python3.12/multiprocessing/util.py\", line 300, in _run_finalizers\n",
      "    finalizer()\n",
      "  File \"/home/hcr/anaconda3/envs/rina/lib/python3.12/multiprocessing/util.py\", line 224, in __call__\n",
      "    res = self._callback(*self._args, **self._kwargs)\n",
      "          ^^^^^^^^^^^^^^^^^^^^^^^^^^^^^^^^^^^^^^^^^^^\n",
      "  File \"/home/hcr/anaconda3/envs/rina/lib/python3.12/multiprocessing/util.py\", line 133, in _remove_temp_dir\n",
      "    rmtree(tempdir)\n",
      "  File \"/home/hcr/anaconda3/envs/rina/lib/python3.12/shutil.py\", line 784, in rmtree\n",
      "    onexc(os.rmdir, path, err)\n",
      "  File \"/home/hcr/anaconda3/envs/rina/lib/python3.12/shutil.py\", line 782, in rmtree\n",
      "    os.rmdir(path, dir_fd=dir_fd)\n",
      "OSError: [Errno 39] Directory not empty: '/tmp/pymp-26dddjg7'\n"
     ]
    },
    {
     "name": "stdout",
     "output_type": "stream",
     "text": [
      "[631] loss_f: 18.34 loss_c: 1.03\n",
      "[641] loss_f: 24.44 loss_c: 1.04\n",
      "[651] loss_f: 19.44 loss_c: 1.04\n",
      "[661] loss_f: 22.97 loss_c: 1.03\n",
      "[671] loss_f: 24.59 loss_c: 1.04\n",
      "[681] loss_f: 23.57 loss_c: 1.03\n",
      "[691] loss_f: 15.22 loss_c: 1.03\n",
      "[701] loss_f: 19.83 loss_c: 1.03\n",
      "[711] loss_f: 20.86 loss_c: 1.04\n"
     ]
    },
    {
     "name": "stderr",
     "output_type": "stream",
     "text": [
      "Traceback (most recent call last):\n",
      "  File \"/home/hcr/anaconda3/envs/rina/lib/python3.12/multiprocessing/util.py\", line 300, in _run_finalizers\n",
      "    finalizer()\n",
      "  File \"/home/hcr/anaconda3/envs/rina/lib/python3.12/multiprocessing/util.py\", line 224, in __call__\n",
      "    res = self._callback(*self._args, **self._kwargs)\n",
      "          ^^^^^^^^^^^^^^^^^^^^^^^^^^^^^^^^^^^^^^^^^^^\n",
      "  File \"/home/hcr/anaconda3/envs/rina/lib/python3.12/multiprocessing/util.py\", line 133, in _remove_temp_dir\n",
      "    rmtree(tempdir)\n",
      "  File \"/home/hcr/anaconda3/envs/rina/lib/python3.12/shutil.py\", line 784, in rmtree\n",
      "    onexc(os.rmdir, path, err)\n",
      "  File \"/home/hcr/anaconda3/envs/rina/lib/python3.12/shutil.py\", line 782, in rmtree\n",
      "    os.rmdir(path, dir_fd=dir_fd)\n",
      "OSError: [Errno 39] Directory not empty: '/tmp/pymp-_72l93qm'\n"
     ]
    },
    {
     "name": "stdout",
     "output_type": "stream",
     "text": [
      "[721] loss_f: 24.82 loss_c: 1.03\n",
      "[731] loss_f: 22.88 loss_c: 1.03\n",
      "[741] loss_f: 24.02 loss_c: 1.01\n",
      "[751] loss_f: 20.61 loss_c: 1.02\n",
      "[761] loss_f: 23.62 loss_c: 1.01\n",
      "[771] loss_f: 18.41 loss_c: 1.00\n",
      "[781] loss_f: 20.50 loss_c: 1.02\n",
      "[791] loss_f: 22.17 loss_c: 1.04\n",
      "[801] loss_f: 25.51 loss_c: 1.02\n",
      "[811] loss_f: 22.58 loss_c: 1.00\n",
      "[821] loss_f: 21.77 loss_c: 1.00\n",
      "[831] loss_f: 21.03 loss_c: 1.01\n",
      "[841] loss_f: 20.66 loss_c: 0.99\n",
      "[851] loss_f: 23.59 loss_c: 1.00\n",
      "[861] loss_f: 23.09 loss_c: 0.99\n",
      "[871] loss_f: 27.45 loss_c: 1.02\n"
     ]
    },
    {
     "name": "stderr",
     "output_type": "stream",
     "text": [
      "Traceback (most recent call last):\n",
      "  File \"/home/hcr/anaconda3/envs/rina/lib/python3.12/multiprocessing/util.py\", line 300, in _run_finalizers\n",
      "    finalizer()\n",
      "  File \"/home/hcr/anaconda3/envs/rina/lib/python3.12/multiprocessing/util.py\", line 224, in __call__\n",
      "    res = self._callback(*self._args, **self._kwargs)\n",
      "          ^^^^^^^^^^^^^^^^^^^^^^^^^^^^^^^^^^^^^^^^^^^\n",
      "  File \"/home/hcr/anaconda3/envs/rina/lib/python3.12/multiprocessing/util.py\", line 133, in _remove_temp_dir\n",
      "    rmtree(tempdir)\n",
      "  File \"/home/hcr/anaconda3/envs/rina/lib/python3.12/shutil.py\", line 784, in rmtree\n",
      "    onexc(os.rmdir, path, err)\n",
      "  File \"/home/hcr/anaconda3/envs/rina/lib/python3.12/shutil.py\", line 782, in rmtree\n",
      "    os.rmdir(path, dir_fd=dir_fd)\n",
      "OSError: [Errno 39] Directory not empty: '/tmp/pymp-k1sjo1xq'\n"
     ]
    },
    {
     "name": "stdout",
     "output_type": "stream",
     "text": [
      "[881] loss_f: 18.99 loss_c: 1.01\n",
      "[891] loss_f: 24.88 loss_c: 1.00\n"
     ]
    },
    {
     "name": "stderr",
     "output_type": "stream",
     "text": [
      "Traceback (most recent call last):\n",
      "  File \"/home/hcr/anaconda3/envs/rina/lib/python3.12/multiprocessing/util.py\", line 300, in _run_finalizers\n",
      "    finalizer()\n",
      "  File \"/home/hcr/anaconda3/envs/rina/lib/python3.12/multiprocessing/util.py\", line 224, in __call__\n",
      "    res = self._callback(*self._args, **self._kwargs)\n",
      "          ^^^^^^^^^^^^^^^^^^^^^^^^^^^^^^^^^^^^^^^^^^^\n",
      "  File \"/home/hcr/anaconda3/envs/rina/lib/python3.12/multiprocessing/util.py\", line 133, in _remove_temp_dir\n",
      "    rmtree(tempdir)\n",
      "  File \"/home/hcr/anaconda3/envs/rina/lib/python3.12/shutil.py\", line 784, in rmtree\n",
      "    onexc(os.rmdir, path, err)\n",
      "  File \"/home/hcr/anaconda3/envs/rina/lib/python3.12/shutil.py\", line 782, in rmtree\n",
      "    os.rmdir(path, dir_fd=dir_fd)\n",
      "OSError: [Errno 39] Directory not empty: '/tmp/pymp-tluxalvs'\n"
     ]
    },
    {
     "name": "stdout",
     "output_type": "stream",
     "text": [
      "[901] loss_f: 19.94 loss_c: 0.98\n",
      "[911] loss_f: 14.68 loss_c: 1.00\n",
      "[921] loss_f: 18.41 loss_c: 1.01\n",
      "[931] loss_f: 18.88 loss_c: 0.99\n",
      "[941] loss_f: 16.73 loss_c: 1.00\n",
      "[951] loss_f: 30.01 loss_c: 0.99\n",
      "[961] loss_f: 25.20 loss_c: 1.00\n",
      "[971] loss_f: 21.16 loss_c: 1.01\n",
      "[981] loss_f: 21.53 loss_c: 1.01\n",
      "[991] loss_f: 21.90 loss_c: 1.00\n",
      "[1001] loss_f: 15.74 loss_c: 1.01\n",
      "[1011] loss_f: 16.09 loss_c: 1.00\n",
      "[1021] loss_f: 18.92 loss_c: 0.98\n",
      "[1031] loss_f: 15.81 loss_c: 0.98\n",
      "[1041] loss_f: 24.17 loss_c: 0.96\n",
      "[1051] loss_f: 32.14 loss_c: 0.99\n",
      "[1061] loss_f: 20.06 loss_c: 0.98\n",
      "[1071] loss_f: 24.23 loss_c: 0.98\n",
      "[1081] loss_f: 14.53 loss_c: 0.96\n",
      "[1091] loss_f: 17.39 loss_c: 0.97\n",
      "[1101] loss_f: 20.40 loss_c: 0.98\n",
      "[1111] loss_f: 30.46 loss_c: 0.95\n",
      "[1121] loss_f: 22.34 loss_c: 0.96\n",
      "[1131] loss_f: 23.91 loss_c: 0.94\n",
      "[1141] loss_f: 23.39 loss_c: 0.97\n",
      "[1151] loss_f: 27.38 loss_c: 0.95\n",
      "[1161] loss_f: 23.40 loss_c: 0.97\n",
      "[1171] loss_f: 15.48 loss_c: 0.94\n",
      "[1181] loss_f: 23.27 loss_c: 0.95\n",
      "[1191] loss_f: 19.93 loss_c: 0.98\n",
      "[1201] loss_f: 15.91 loss_c: 0.94\n",
      "[1211] loss_f: 18.36 loss_c: 0.94\n",
      "[1221] loss_f: 16.06 loss_c: 0.95\n",
      "[1231] loss_f: 28.56 loss_c: 0.96\n",
      "[1241] loss_f: 28.78 loss_c: 0.95\n",
      "[1251] loss_f: 28.32 loss_c: 0.96\n",
      "[1261] loss_f: 26.19 loss_c: 0.93\n",
      "[1271] loss_f: 12.73 loss_c: 0.93\n",
      "[1281] loss_f: 15.01 loss_c: 0.93\n",
      "[1291] loss_f: 23.55 loss_c: 0.96\n",
      "[1301] loss_f: 13.90 loss_c: 0.95\n",
      "[1311] loss_f: 26.96 loss_c: 0.94\n",
      "[1321] loss_f: 25.41 loss_c: 0.93\n",
      "[1331] loss_f: 34.05 loss_c: 0.94\n",
      "[1341] loss_f: 22.49 loss_c: 0.98\n",
      "[1351] loss_f: 13.82 loss_c: 0.94\n",
      "[1361] loss_f: 16.83 loss_c: 0.95\n",
      "[1371] loss_f: 23.17 loss_c: 0.96\n",
      "[1381] loss_f: 16.77 loss_c: 0.91\n",
      "[1391] loss_f: 21.80 loss_c: 0.90\n",
      "[1401] loss_f: 16.36 loss_c: 0.92\n",
      "[1411] loss_f: 32.99 loss_c: 0.91\n",
      "[1421] loss_f: 21.00 loss_c: 0.94\n",
      "[1431] loss_f: 21.24 loss_c: 0.94\n",
      "[1441] loss_f: 15.44 loss_c: 0.93\n",
      "[1451] loss_f: 17.07 loss_c: 0.91\n",
      "[1461] loss_f: 17.73 loss_c: 0.95\n",
      "[1471] loss_f: 26.34 loss_c: 0.92\n",
      "[1481] loss_f: 27.57 loss_c: 0.93\n",
      "[1491] loss_f: 19.28 loss_c: 0.95\n",
      "[1501] loss_f: 17.44 loss_c: 0.94\n",
      "[1511] loss_f: 27.27 loss_c: 0.92\n",
      "[1521] loss_f: 20.64 loss_c: 0.94\n",
      "[1531] loss_f: 13.64 loss_c: 0.92\n",
      "[1541] loss_f: 23.93 loss_c: 0.95\n",
      "[1551] loss_f: 20.30 loss_c: 0.94\n",
      "[1561] loss_f: 16.21 loss_c: 0.92\n",
      "[1571] loss_f: 14.99 loss_c: 0.95\n",
      "[1581] loss_f: 20.77 loss_c: 0.97\n",
      "[1591] loss_f: 24.03 loss_c: 0.89\n",
      "[1601] loss_f: 18.41 loss_c: 0.91\n",
      "[1611] loss_f: 16.56 loss_c: 0.93\n"
     ]
    },
    {
     "name": "stderr",
     "output_type": "stream",
     "text": [
      "Traceback (most recent call last):\n",
      "  File \"/home/hcr/anaconda3/envs/rina/lib/python3.12/multiprocessing/util.py\", line 300, in _run_finalizers\n",
      "    finalizer()\n",
      "  File \"/home/hcr/anaconda3/envs/rina/lib/python3.12/multiprocessing/util.py\", line 224, in __call__\n",
      "    res = self._callback(*self._args, **self._kwargs)\n",
      "          ^^^^^^^^^^^^^^^^^^^^^^^^^^^^^^^^^^^^^^^^^^^\n",
      "  File \"/home/hcr/anaconda3/envs/rina/lib/python3.12/multiprocessing/util.py\", line 133, in _remove_temp_dir\n",
      "    rmtree(tempdir)\n",
      "  File \"/home/hcr/anaconda3/envs/rina/lib/python3.12/shutil.py\", line 784, in rmtree\n",
      "    onexc(os.rmdir, path, err)\n",
      "  File \"/home/hcr/anaconda3/envs/rina/lib/python3.12/shutil.py\", line 782, in rmtree\n",
      "    os.rmdir(path, dir_fd=dir_fd)\n",
      "OSError: [Errno 39] Directory not empty: '/tmp/pymp-odp4qfd7'\n"
     ]
    },
    {
     "name": "stdout",
     "output_type": "stream",
     "text": [
      "[1621] loss_f: 22.29 loss_c: 0.89\n",
      "[1631] loss_f: 18.45 loss_c: 0.91\n",
      "[1641] loss_f: 28.29 loss_c: 0.92\n",
      "[1651] loss_f: 18.97 loss_c: 0.90\n",
      "[1661] loss_f: 18.65 loss_c: 0.90\n",
      "[1671] loss_f: 16.45 loss_c: 0.90\n",
      "[1681] loss_f: 20.12 loss_c: 0.90\n",
      "[1691] loss_f: 18.99 loss_c: 0.90\n",
      "[1701] loss_f: 20.46 loss_c: 0.90\n",
      "[1711] loss_f: 19.35 loss_c: 0.89\n",
      "[1721] loss_f: 19.59 loss_c: 0.91\n",
      "[1731] loss_f: 24.51 loss_c: 0.88\n",
      "[1741] loss_f: 20.53 loss_c: 0.89\n",
      "[1751] loss_f: 23.64 loss_c: 0.88\n",
      "[1761] loss_f: 15.51 loss_c: 0.87\n",
      "[1771] loss_f: 15.76 loss_c: 0.89\n",
      "[1781] loss_f: 23.64 loss_c: 0.90\n",
      "[1791] loss_f: 19.19 loss_c: 0.90\n",
      "[1801] loss_f: 15.47 loss_c: 0.94\n",
      "[1811] loss_f: 14.85 loss_c: 0.90\n",
      "[1821] loss_f: 17.10 loss_c: 0.90\n",
      "[1831] loss_f: 19.62 loss_c: 0.93\n",
      "[1841] loss_f: 20.46 loss_c: 0.94\n",
      "[1851] loss_f: 13.91 loss_c: 0.91\n",
      "[1861] loss_f: 19.11 loss_c: 0.90\n",
      "[1871] loss_f: 20.30 loss_c: 0.91\n",
      "[1881] loss_f: 15.21 loss_c: 0.92\n",
      "[1891] loss_f: 21.71 loss_c: 0.89\n"
     ]
    },
    {
     "name": "stderr",
     "output_type": "stream",
     "text": [
      "Traceback (most recent call last):\n",
      "  File \"/home/hcr/anaconda3/envs/rina/lib/python3.12/multiprocessing/util.py\", line 300, in _run_finalizers\n",
      "    finalizer()\n",
      "  File \"/home/hcr/anaconda3/envs/rina/lib/python3.12/multiprocessing/util.py\", line 224, in __call__\n",
      "    res = self._callback(*self._args, **self._kwargs)\n",
      "          ^^^^^^^^^^^^^^^^^^^^^^^^^^^^^^^^^^^^^^^^^^^\n",
      "  File \"/home/hcr/anaconda3/envs/rina/lib/python3.12/multiprocessing/util.py\", line 133, in _remove_temp_dir\n",
      "    rmtree(tempdir)\n",
      "  File \"/home/hcr/anaconda3/envs/rina/lib/python3.12/shutil.py\", line 784, in rmtree\n",
      "    onexc(os.rmdir, path, err)\n",
      "  File \"/home/hcr/anaconda3/envs/rina/lib/python3.12/shutil.py\", line 782, in rmtree\n",
      "    os.rmdir(path, dir_fd=dir_fd)\n",
      "OSError: [Errno 39] Directory not empty: '/tmp/pymp-4_hs9p8g'\n"
     ]
    },
    {
     "name": "stdout",
     "output_type": "stream",
     "text": [
      "[1901] loss_f: 16.95 loss_c: 0.91\n",
      "[1911] loss_f: 19.68 loss_c: 0.91\n",
      "[1921] loss_f: 21.97 loss_c: 0.88\n",
      "[1931] loss_f: 25.10 loss_c: 0.90\n",
      "[1941] loss_f: 16.89 loss_c: 0.90\n",
      "[1951] loss_f: 16.47 loss_c: 0.88\n",
      "[1961] loss_f: 25.66 loss_c: 0.87\n",
      "[1971] loss_f: 19.67 loss_c: 0.91\n",
      "[1981] loss_f: 16.61 loss_c: 0.90\n",
      "[1991] loss_f: 20.21 loss_c: 0.88\n"
     ]
    }
   ],
   "source": [
    "model_save_freq = 50 # How often to save the model\n",
    "\n",
    "# Create some arrays to save training statistics\n",
    "Loss_f = [] # combined force prediction loss\n",
    "Loss_c = [] # combined adversarial loss\n",
    "\n",
    "# Loss for each subdataset \n",
    "Loss_test_nominal = [] # loss without any learning\n",
    "Loss_test_mean = [] # loss with mean predictor\n",
    "Loss_test_phi = [] # loss with NN\n",
    "for i in range(len(TestData)):\n",
    "    Loss_test_nominal.append([])\n",
    "    Loss_test_mean.append([])\n",
    "    Loss_test_phi.append([])\n",
    "\n",
    "# Training!\n",
    "for epoch in range(options['num_epochs']):\n",
    "    # Randomize the order in which we train over the subdatasets\n",
    "    arr = np.arange(options['num_c'])\n",
    "    np.random.shuffle(arr)\n",
    "\n",
    "    # Running loss over all subdatasets\n",
    "    running_loss_f = 0.0\n",
    "    running_loss_c = 0.0\n",
    "\n",
    "    for i in arr:\n",
    "        with torch.no_grad():\n",
    "            adaptloader = Adaptloader[i]\n",
    "            kshot_data = next(iter(adaptloader))\n",
    "            trainloader = Trainloader[i]\n",
    "            data = next(iter(trainloader))\n",
    "        \n",
    "        optimizer_phi.zero_grad()\n",
    "        \n",
    "        '''\n",
    "        Least-square to get $a$ from K-shot data\n",
    "        '''\n",
    "        X = kshot_data['input'] # K x dim_x\n",
    "        Y = kshot_data['output'] # K x dim_y\n",
    "        Phi = phi_net(X) # K x dim_a\n",
    "        Phi_T = Phi.transpose(0, 1) # dim_a x K\n",
    "        A = torch.inverse(torch.mm(Phi_T, Phi)) # dim_a x dim_a\n",
    "        a = torch.mm(torch.mm(A, Phi_T), Y) # dim_a x dim_y\n",
    "        if torch.norm(a, 'fro') > options['gamma']:\n",
    "            a = a / torch.norm(a, 'fro') * options['gamma']\n",
    "            \n",
    "        '''\n",
    "        Batch training \\phi_net\n",
    "        '''\n",
    "        inputs = data['input'] # B x dim_x\n",
    "        labels = data['output'] # B x dim_y\n",
    "        \n",
    "        c_labels = data['c'].type(torch.long)\n",
    "            \n",
    "        # forward + backward + optimize\n",
    "        outputs = torch.mm(phi_net(inputs), a)\n",
    "        loss_f = criterion(outputs, labels)\n",
    "        temp = phi_net(inputs)\n",
    "        \n",
    "        loss_c = criterion_h(h_net(temp), c_labels)\n",
    "            \n",
    "        loss_phi = loss_f - options['alpha'] * loss_c\n",
    "        loss_phi.backward()\n",
    "        optimizer_phi.step()\n",
    "        \n",
    "        '''\n",
    "        Discriminator training\n",
    "        '''\n",
    "        if np.random.rand() <= 1.0 / options['frequency_h']:\n",
    "            optimizer_h.zero_grad()\n",
    "            temp = phi_net(inputs)\n",
    "            \n",
    "            loss_c = criterion_h(h_net(temp), c_labels)\n",
    "            \n",
    "            loss_h = loss_c\n",
    "            loss_h.backward()\n",
    "            optimizer_h.step()\n",
    "        \n",
    "        '''\n",
    "        Spectral normalization\n",
    "        '''\n",
    "        if options['SN'] > 0:\n",
    "            for param in phi_net.parameters():\n",
    "                M = param.detach().numpy()\n",
    "                if M.ndim > 1:\n",
    "                    s = np.linalg.norm(M, 2)\n",
    "                    if s > options['SN']:\n",
    "                        param.data = param / s * options['SN']\n",
    "         \n",
    "        running_loss_f += loss_f.item()\n",
    "        running_loss_c += loss_c.item()\n",
    "    \n",
    "    # Save statistics\n",
    "    Loss_f.append(running_loss_f / options['num_c'])\n",
    "    Loss_c.append(running_loss_c / options['num_c'])\n",
    "    if epoch % 10 == 0:\n",
    "        print('[%d] loss_f: %.2f loss_c: %.2f' % (epoch + 1, running_loss_f / options['num_c'], running_loss_c / options['num_c']))\n",
    "        \n",
    "    with torch.no_grad():\n",
    "        for j in range(len(TestData)):\n",
    "            loss_nominal, loss_mean, loss_phi = mlmodel.error_statistics(TestData[j].X, TestData[j].Y, phi_net, h_net, options=options)\n",
    "            Loss_test_nominal[j].append(loss_nominal)\n",
    "            Loss_test_mean[j].append(loss_mean)\n",
    "            Loss_test_phi[j].append(loss_phi)\n",
    "\n",
    "    if epoch % model_save_freq == 0:\n",
    "        mlmodel.save_model(phi_net=phi_net, h_net=h_net, modelname=modelname + '-epoch-' + str(epoch), options=options)\n",
    "\n",
    "mlmodel.save_model(phi_net=phi_net, h_net=h_net, modelname=modelname + '-epoch-' + str(options[\"num_epochs\"]), options=options)"
   ]
  },
  {
   "cell_type": "code",
   "execution_count": 12,
   "metadata": {},
   "outputs": [
    {
     "data": {
      "image/png": "[encoded data removed]",
      "text/plain": [
       "<Figure size 640x480 with 2 Axes>"
      ]
     },
     "metadata": {},
     "output_type": "display_data"
    },
    {
     "data": {
      "image/png": "[encoded data removed]",
      "text/plain": [
       "<Figure size 640x480 with 1 Axes>"
      ]
     },
     "metadata": {},
     "output_type": "display_data"
    },
    {
     "data": {
      "image/png": "[encoded data removed]",
      "text/plain": [
       "<Figure size 640x480 with 1 Axes>"
      ]
     },
     "metadata": {},
     "output_type": "display_data"
    },
    {
     "data": {
      "image/png": "[encoded data removed]",
      "text/plain": [
       "<Figure size 640x480 with 1 Axes>"
      ]
     },
     "metadata": {},
     "output_type": "display_data"
    }
   ],
   "source": [
    "plt.subplot(2, 1, 1)\n",
    "plt.plot(Loss_f)\n",
    "plt.xlabel('epoch')\n",
    "plt.ylabel('f-loss [N]')\n",
    "plt.title('training f loss')\n",
    "plt.subplot(2, 1, 2)\n",
    "plt.plot(Loss_c)\n",
    "plt.title('training c loss')\n",
    "plt.xlabel('epoch')\n",
    "plt.ylabel('c-loss')\n",
    "plt.tight_layout()\n",
    "\n",
    "for j in range(len(TestData)):\n",
    "    plt.figure()\n",
    "    # plt.plot(Loss_test_nominal[j], label='nominal')\n",
    "    plt.plot(Loss_test_mean[j], label='mean')\n",
    "    plt.plot(np.array(Loss_test_phi[j]), label='phi*a')\n",
    "    # plt.plot(np.array(Loss_test_exp_forgetting[j]), label='exp forgetting')\n",
    "    plt.legend()\n",
    "    plt.title(f'Test data set {j} - {TestData[j].meta[\"condition\"]}')\n",
    "\n",
    "plt.show()"
   ]
  },
  {
   "cell_type": "code",
   "execution_count": 19,
   "metadata": {},
   "outputs": [],
   "source": [
    "# Choose final model\n",
    "# stopping_epoch = 200\n",
    "# options['num_epochs'] = stopping_epoch\n",
    "\n",
    "model_path = os.path.join(options[\"output_path\"], \"models\", (modelname + '-epoch-' + str(options[\"num_epochs\"])))\n",
    "# model_path = os.path.join(\"/home/hcr/Research/DARoSLab/rina/training_results/04_02_202415_31_57/models\", (modelname + '-epoch-' + str(2000)))\n",
    "final_model = mlmodel.load_model(modelname = model_path)"
   ]
  },
  {
   "cell_type": "code",
   "execution_count": 21,
   "metadata": {},
   "outputs": [],
   "source": [
    "phi_net = final_model.phi\n",
    "h_net = final_model.h\n",
    "\n",
    "eval_adapt_start = 0\n",
    "eval_adapt_end = 2500\n",
    "eval_val_start = 2500\n",
    "eval_val_end = 5000\n",
    "\n",
    "vis_output_path_prefix_training_data = os.path.join(options[\"output_path\"], \"eval_iamges\", \"training\")\n",
    "vis_output_path_prefix_testing_data = os.path.join(options[\"output_path\"], \"eval_iamges\", \"testing\")\n",
    "\n",
    "# vis_output_path_prefix_training_data = os.path.join(\"/home/hcr/Research/DARoSLab/rina/training_results/04_02_202415_31_57/eval_images/training\")\n",
    "# vis_output_path_prefix_testing_data = os.path.join(\"/home/hcr/Research/DARoSLab/rina/training_results/04_02_202415_31_57/eval_images/testing\")"
   ]
  },
  {
   "cell_type": "markdown",
   "metadata": {},
   "source": [
    "Plot the measured aerodynamic force, labeled ground truth (gt), along with the region used for adapation (adapt), and the predicted region (val)"
   ]
  },
  {
   "cell_type": "code",
   "execution_count": 22,
   "metadata": {},
   "outputs": [
    {
     "name": "stdout",
     "output_type": "stream",
     "text": [
      "------------------------------\n",
      "0lb:\n",
      "a = [[ 0.22302943  0.23226283  0.4327126   0.26066399 -0.18979032 -0.59706679\n",
      "  -0.19310555 -0.22886764 -0.81370228 -0.13990722  0.25755196  0.74642216]\n",
      " [ 0.24991236 -0.52084898  0.89836579  0.07899623  0.32824344  0.56613338\n",
      "   0.0575629   0.28277343  0.0711258  -0.28915059 -0.48514074  0.44547453]\n",
      " [-1.09845244 -7.04746989  0.03806313  2.7256996   1.77523621  0.0251402\n",
      "  -1.0143582   1.69342975 -7.86599974 -0.46156633 -6.75909321 -8.5316936 ]]\n",
      "|a| = 15.819052801045743\n",
      "------------------------------\n",
      "5lb:\n",
      "a = [[ 0.21627426  0.13167924  0.54019013  0.25355726 -0.16069765 -0.63775488\n",
      "  -0.22077004 -0.15023944 -0.84799778 -0.18462981  0.13272905  0.69503818]\n",
      " [ 0.24310162  0.02804496  0.65017739 -0.02264991  0.07917948  0.30419338\n",
      "   0.06584022  0.08313866  0.30518629 -0.2299014  -0.07480281  0.69342823]\n",
      " [-0.86412295 -1.46579305 -3.47146919  1.87452686 -0.13287058 -3.24306554\n",
      "  -1.25066063  0.34282211 -5.65376708  0.65832583 -1.92227217 -5.91109029]]\n",
      "|a| = 10.25256938657387\n",
      "------------------------------\n",
      "10lb:\n",
      "a = [[ 0.22471333  0.11924765  0.5925487   0.27490301 -0.16035513 -0.68271368\n",
      "  -0.24702695 -0.07436397 -0.80226592 -0.20995561  0.09408352  0.69274155]\n",
      " [ 0.17130189  0.05563703  0.48630821 -0.07035526  0.08946384  0.27932331\n",
      "   0.11712606 -0.16140508  0.18374434 -0.18292913 -0.03615717  0.88967807]\n",
      " [-1.83943666 -0.87655044 -6.61500527  1.48078544  0.24008958 -3.94830541\n",
      "  -0.92709411 -1.82767627 -7.247813    1.66458424 -0.85334722 -2.86173363]]\n",
      "|a| = 11.732641055707752\n"
     ]
    },
    {
     "data": {
      "text/plain": [
       "<Figure size 1500x1200 with 0 Axes>"
      ]
     },
     "metadata": {},
     "output_type": "display_data"
    },
    {
     "data": {
      "text/plain": [
       "<Figure size 1500x1200 with 0 Axes>"
      ]
     },
     "metadata": {},
     "output_type": "display_data"
    },
    {
     "data": {
      "text/plain": [
       "<Figure size 1500x1200 with 0 Axes>"
      ]
     },
     "metadata": {},
     "output_type": "display_data"
    }
   ],
   "source": [
    "for i, data in enumerate(Data):\n",
    "    print('------------------------------')\n",
    "    print(data.meta['condition'] + ':')\n",
    "    file_name = \"{:s}.png\".format(data.meta['condition'])\n",
    "    mlmodel.vis_validation(t=data.meta['steps'], x=data.X, y=data.Y, phi_net=phi_net, \n",
    "                           h_net=h_net, idx_adapt_start=eval_adapt_start, idx_adapt_end=eval_adapt_end, \n",
    "                           idx_val_start=eval_val_start, idx_val_end=eval_val_end, c=Data[i].C, options=options, \n",
    "                           output_path_prefix=vis_output_path_prefix_training_data, output_name=file_name)"
   ]
  },
  {
   "cell_type": "code",
   "execution_count": 23,
   "metadata": {},
   "outputs": [
    {
     "name": "stdout",
     "output_type": "stream",
     "text": [
      "**** c = 0 : 0lb ****\n",
      "Before learning: MSE is  59.77\n",
      "Mean predictor: MSE is  33.71\n",
      "After learning phi(x): MSE is  9.83\n",
      "\n",
      "**** c = 1 : 5lb ****\n",
      "Before learning: MSE is  99.12\n",
      "Mean predictor: MSE is  50.92\n",
      "After learning phi(x): MSE is  10.54\n",
      "\n",
      "**** c = 2 : 10lb ****\n",
      "Before learning: MSE is  127.47\n",
      "Mean predictor: MSE is  65.37\n",
      "After learning phi(x): MSE is  13.88\n",
      "\n"
     ]
    }
   ],
   "source": [
    "for data in Data:\n",
    "    image_name = \"{:s}_errors_hist.png\".format(data.meta['condition'])\n",
    "    error_1, error_2, error_3 = mlmodel.error_statistics_hist(data.X, data.Y, phi_net, h_net, options, vis_output_path_prefix_training_data, image_name)\n",
    "    print('**** c =', str(data.C), ':', data.meta['condition'], '****')\n",
    "    print(f'Before learning: MSE is {error_1: .2f}')\n",
    "    print(f'Mean predictor: MSE is {error_2: .2f}')\n",
    "    print(f'After learning phi(x): MSE is {error_3: .2f}')\n",
    "    print('')"
   ]
  },
  {
   "cell_type": "markdown",
   "metadata": {},
   "source": [
    "## Test Data Error Analysis"
   ]
  },
  {
   "cell_type": "code",
   "execution_count": 24,
   "metadata": {},
   "outputs": [
    {
     "name": "stdout",
     "output_type": "stream",
     "text": [
      "------------------------------\n",
      "0lb:\n",
      "17645\n",
      "a = [[ 0.20322743  0.15268319  0.47722395  0.26146267 -0.21106673 -0.60207011\n",
      "  -0.19453572 -0.22840031 -0.86169776 -0.13528294  0.18499483  0.68954551]\n",
      " [ 0.30616296 -0.00692041  0.72369112 -0.03803529  0.47135749  0.39074902\n",
      "   0.07657454  0.45990804  0.46522369 -0.26037445 -0.08737811  0.82327152]\n",
      " [-0.15014115 -1.69210056 -2.01447814  1.41433448  3.45684144 -1.82892496\n",
      "  -0.70437828  3.63586746 -3.58624687 -0.31802658 -2.30698173 -4.4571778 ]]\n",
      "|a| = 8.96742131201356\n",
      "------------------------------\n",
      "5lb:\n",
      "25555\n",
      "a = [[ 0.22522031  0.10558946  0.58545621  0.26435052 -0.14468174 -0.66013681\n",
      "  -0.24816475 -0.1232408  -0.81972238 -0.19430797  0.12691633  0.66569205]\n",
      " [ 0.24062714 -0.02045062  0.58322696 -0.06168011  0.14825432  0.22253494\n",
      "   0.06986403  0.09206976  0.31655788 -0.1893279  -0.12686636  0.8499843 ]\n",
      " [-0.92489193 -1.22733592 -5.20277656  1.37388896  1.11278822 -4.63526321\n",
      "  -1.37594778  1.12558789 -5.18503704  1.22766481 -2.8282959  -3.34401071]]\n",
      "|a| = 10.407426468035526\n",
      "------------------------------\n",
      "10lb:\n",
      "27619\n",
      "a = [[ 0.21988424  0.17716076  0.52280307  0.27555942 -0.19533812 -0.65791631\n",
      "  -0.23712602 -0.10524139 -0.83258551 -0.1959228   0.10588183  0.74683688]\n",
      " [ 0.22830406 -0.2001414   0.8024794  -0.01178903  0.1113361   0.35348732\n",
      "   0.07100235  0.0103807   0.21605088 -0.24996846  0.02147321  0.61108787]\n",
      " [-1.06614274 -6.22293583 -0.29741183  2.53550083  0.17525748 -2.13477919\n",
      "  -1.75790578  1.26848231 -7.22979388  0.51602252  0.15261646 -8.43080305]]\n",
      "|a| = 13.525299459742708\n"
     ]
    },
    {
     "data": {
      "text/plain": [
       "<Figure size 1500x1200 with 0 Axes>"
      ]
     },
     "metadata": {},
     "output_type": "display_data"
    },
    {
     "data": {
      "text/plain": [
       "<Figure size 1500x1200 with 0 Axes>"
      ]
     },
     "metadata": {},
     "output_type": "display_data"
    },
    {
     "data": {
      "text/plain": [
       "<Figure size 1500x1200 with 0 Axes>"
      ]
     },
     "metadata": {},
     "output_type": "display_data"
    }
   ],
   "source": [
    "for i, data in enumerate(TestData):\n",
    "    print('------------------------------')\n",
    "    print(data.meta['condition'] + ':')\n",
    "    print(len(data.X))\n",
    "    file_name = \"{:s}.png\".format(data.meta['condition'])\n",
    "    mlmodel.vis_validation(t=data.meta['steps'], x=data.X, y=data.Y, phi_net=phi_net, h_net=h_net, \n",
    "                           idx_adapt_start=eval_adapt_start, idx_adapt_end=eval_adapt_end, \n",
    "                           idx_val_start=eval_val_start, idx_val_end=eval_val_end, c=Data[i].C, options=options,\n",
    "                           output_path_prefix=vis_output_path_prefix_testing_data, output_name=file_name)"
   ]
  },
  {
   "cell_type": "code",
   "execution_count": 25,
   "metadata": {},
   "outputs": [
    {
     "name": "stdout",
     "output_type": "stream",
     "text": [
      "**** : 0lb ****\n",
      "Before learning: MSE is  63.93\n",
      "Mean predictor: MSE is  37.80\n",
      "After learning phi(x): MSE is  12.92\n",
      "\n",
      "**** : 5lb ****\n",
      "Before learning: MSE is  96.90\n",
      "Mean predictor: MSE is  50.15\n",
      "After learning phi(x): MSE is  10.65\n",
      "\n",
      "**** : 10lb ****\n",
      "Before learning: MSE is  121.81\n",
      "Mean predictor: MSE is  61.64\n",
      "After learning phi(x): MSE is  12.35\n",
      "\n"
     ]
    }
   ],
   "source": [
    "for data in TestData:\n",
    "    image_name = \"{:s}_errors_hist.png\".format(data.meta['condition'])\n",
    "    error_1, error_2, error_3 = mlmodel.error_statistics_hist(data.X, data.Y, phi_net, h_net, options, vis_output_path_prefix_testing_data, image_name)\n",
    "    print('**** :', data.meta['condition'], '****')\n",
    "    print(f'Before learning: MSE is {error_1: .2f}')\n",
    "    print(f'Mean predictor: MSE is {error_2: .2f}')\n",
    "    print(f'After learning phi(x): MSE is {error_3: .2f}')\n",
    "    print('')"
   ]
  },
  {
   "cell_type": "code",
   "execution_count": null,
   "metadata": {},
   "outputs": [],
   "source": []
  },
  {
   "cell_type": "code",
   "execution_count": null,
   "metadata": {},
   "outputs": [],
   "source": []
  }
 ],
 "metadata": {
  "interpreter": {
   "hash": "5932d0aacfea12ae558253bdaac47ff94f362ee7b8ad1d98be4f4f6b94d2042e"
  },
  "kernelspec": {
   "display_name": "Python 3.7.7 ('base')",
   "language": "python",
   "name": "python3"
  },
  "language_info": {
   "codemirror_mode": {
    "name": "ipython",
    "version": 3
   },
   "file_extension": ".py",
   "mimetype": "text/x-python",
   "name": "python",
   "nbconvert_exporter": "python",
   "pygments_lexer": "ipython3",
   "version": "3.12.1"
  },
  "metadata": {
   "interpreter": {
    "hash": "efbe968048790da5e26fe224257c59db0c3c3cb10bbad9ca12250f2d56e94a61"
   }
  },
  "orig_nbformat": 2
 },
 "nbformat": 4,
 "nbformat_minor": 2
}
