{
 "cells": [
  {
   "cell_type": "code",
   "execution_count": null,
   "metadata": {},
   "outputs": [],
   "source": [
    "import pandas as pd\n",
    "import numpy as np\n",
    "import matplotlib.pyplot as plt\n",
    "import seaborn as sns"
   ]
  },
  {
   "cell_type": "code",
   "execution_count": null,
   "metadata": {},
   "outputs": [],
   "source": [
    "rina_df = pd.read_csv(\"raytune_df.csv\")"
   ]
  },
  {
   "cell_type": "code",
   "execution_count": null,
   "metadata": {},
   "outputs": [],
   "source": [
    "rina_df.columns"
   ]
  },
  {
   "cell_type": "code",
   "execution_count": null,
   "metadata": {},
   "outputs": [],
   "source": [
    "rina_df_cleaned = rina_df.drop(['Unnamed: 0', 'checkpoint_dir_name', 'timestamp', 'folder', 'done', 'training_iteration',\n",
    "                                'time_since_restore', 'time_this_iter_s', 'time_total_s', 'pid', 'hostname', 'node_ip',\n",
    "                                'iterations_since_restore', 'trial_id', 'date', 'logdir'], axis=1)"
   ]
  },
  {
   "cell_type": "code",
   "execution_count": null,
   "metadata": {},
   "outputs": [],
   "source": [
    "rina_df_cleaned.columns"
   ]
  },
  {
   "cell_type": "code",
   "execution_count": null,
   "metadata": {},
   "outputs": [],
   "source": [
    "sns.scatterplot(data=rina_df_cleaned, x=\"config/learning_rate\", y=\"phi_loss\")"
   ]
  },
  {
   "cell_type": "code",
   "execution_count": null,
   "metadata": {},
   "outputs": [],
   "source": [
    "sns.scatterplot(data=rina_df_cleaned, x=\"config/learning_rate\", y=\"phi_loss\", hue=\"config/SN\")"
   ]
  },
  {
   "cell_type": "code",
   "execution_count": null,
   "metadata": {},
   "outputs": [],
   "source": [
    "sns.scatterplot(data=rina_df_cleaned, x=\"config/learning_rate\", y=\"phi_loss\", hue=\"config/gamma\")"
   ]
  },
  {
   "cell_type": "code",
   "execution_count": null,
   "metadata": {},
   "outputs": [],
   "source": [
    "sns.scatterplot(data=rina_df_cleaned, x=\"config/learning_rate\", y=\"phi_loss\", hue=\"config/gamma\", style=\"config/SN\")"
   ]
  },
  {
   "cell_type": "code",
   "execution_count": null,
   "metadata": {},
   "outputs": [],
   "source": [
    "sns.barplot(data=rina_df_cleaned, x=\"config/gamma\", y=\"phi_loss\")"
   ]
  },
  {
   "cell_type": "code",
   "execution_count": null,
   "metadata": {},
   "outputs": [],
   "source": [
    "sns.barplot(data=rina_df_cleaned, x=\"config/SN\", y=\"phi_loss\")"
   ]
  },
  {
   "cell_type": "code",
   "execution_count": null,
   "metadata": {},
   "outputs": [],
   "source": [
    "sns.scatterplot(data=rina_df_cleaned, x=\"config/alpha\", y=\"phi_loss\")"
   ]
  },
  {
   "cell_type": "code",
   "execution_count": null,
   "metadata": {},
   "outputs": [],
   "source": [
    "sns.scatterplot(data=rina_df_cleaned, x=\"config/alpha\", y=\"phi_loss\", hue=\"config/SN\")"
   ]
  },
  {
   "cell_type": "code",
   "execution_count": null,
   "metadata": {},
   "outputs": [],
   "source": [
    "sns.scatterplot(data=rina_df_cleaned, x=\"config/alpha\", y=\"phi_loss\", hue=\"config/gamma\")"
   ]
  },
  {
   "cell_type": "code",
   "execution_count": null,
   "metadata": {},
   "outputs": [],
   "source": [
    "sns.scatterplot(data=rina_df_cleaned, x=\"config/alpha\", y=\"phi_loss\", hue=\"config/learning_rate\", style=\"config/gamma\")"
   ]
  },
  {
   "cell_type": "code",
   "execution_count": null,
   "metadata": {},
   "outputs": [],
   "source": [
    "sns.scatterplot(data=rina_df_cleaned, x=\"config/alpha\", y=\"phi_loss\", hue=\"config/learning_rate\", style=\"config/SN\")"
   ]
  },
  {
   "cell_type": "code",
   "execution_count": null,
   "metadata": {},
   "outputs": [],
   "source": [
    "np.mean(rina_df_cleaned[\"phi_loss\"].to_numpy())"
   ]
  },
  {
   "cell_type": "code",
   "execution_count": null,
   "metadata": {},
   "outputs": [],
   "source": []
  },
  {
   "cell_type": "code",
   "execution_count": null,
   "metadata": {},
   "outputs": [],
   "source": [
    "rina_df = pd.read_csv(\"raytune_df_2nd_rnd.csv\")\n",
    "rina_df.columns"
   ]
  },
  {
   "cell_type": "code",
   "execution_count": null,
   "metadata": {},
   "outputs": [],
   "source": [
    "# Best trial config: {'learning_rate': 0.0014976579721154206, 'alpha': 0.05507153832249802, 'phi_first_out': 70, 'phi_second_out': 70, 'discrim_hidden': 40, 'dim_a': 6}"
   ]
  },
  {
   "cell_type": "code",
   "execution_count": null,
   "metadata": {},
   "outputs": [],
   "source": [
    "rina_df_cleaned = rina_df.drop(['Unnamed: 0', 'checkpoint_dir_name', 'timestamp', 'folder', 'done', 'training_iteration',\n",
    "                                'time_since_restore', 'time_this_iter_s', 'time_total_s', 'pid', 'hostname', 'node_ip',\n",
    "                                'iterations_since_restore', 'trial_id', 'date', 'logdir'], axis=1)\n",
    "rina_df_cleaned.columns"
   ]
  },
  {
   "cell_type": "code",
   "execution_count": null,
   "metadata": {},
   "outputs": [],
   "source": [
    "sns.scatterplot(data=rina_df_cleaned, x=\"config/learning_rate\", y=\"phi_loss\")"
   ]
  },
  {
   "cell_type": "code",
   "execution_count": null,
   "metadata": {},
   "outputs": [],
   "source": [
    "sns.scatterplot(data=rina_df_cleaned, x=\"config/alpha\", y=\"phi_loss\")"
   ]
  },
  {
   "cell_type": "code",
   "execution_count": null,
   "metadata": {},
   "outputs": [],
   "source": [
    "sns.barplot(data=rina_df_cleaned, x=\"config/dim_a\", y=\"phi_loss\")"
   ]
  },
  {
   "cell_type": "code",
   "execution_count": null,
   "metadata": {},
   "outputs": [],
   "source": [
    "sns.barplot(data=rina_df_cleaned, x=\"config/phi_first_out\", y=\"phi_loss\")"
   ]
  },
  {
   "cell_type": "code",
   "execution_count": null,
   "metadata": {},
   "outputs": [],
   "source": [
    "sns.barplot(data=rina_df_cleaned, x=\"config/phi_second_out\", y=\"phi_loss\")"
   ]
  },
  {
   "cell_type": "code",
   "execution_count": null,
   "metadata": {},
   "outputs": [],
   "source": [
    "sns.scatterplot(data=rina_df_cleaned, x=\"config/alpha\", y=\"phi_loss\", hue=\"config/discrim_hidden\")"
   ]
  },
  {
   "cell_type": "code",
   "execution_count": null,
   "metadata": {},
   "outputs": [],
   "source": [
    "sns.scatterplot(data=rina_df_cleaned, x=\"config/alpha\", y=\"phi_loss\", hue=\"config/dim_a\")\n",
    "plt.grid()"
   ]
  },
  {
   "cell_type": "code",
   "execution_count": null,
   "metadata": {},
   "outputs": [],
   "source": [
    "sns.barplot(data=rina_df_cleaned, x=\"config/phi_first_out\", y=\"phi_loss\", hue=\"config/phi_second_out\")\n",
    "plt.grid()"
   ]
  },
  {
   "cell_type": "code",
   "execution_count": null,
   "metadata": {},
   "outputs": [],
   "source": [
    "sns.barplot(data=rina_df_cleaned, x=\"config/phi_first_out\", y=\"phi_loss\", hue=\"config/phi_second_out\")"
   ]
  }
 ],
 "metadata": {
  "kernelspec": {
   "display_name": "rina",
   "language": "python",
   "name": "python3"
  },
  "language_info": {
   "codemirror_mode": {
    "name": "ipython",
    "version": 3
   },
   "file_extension": ".py",
   "mimetype": "text/x-python",
   "name": "python",
   "nbconvert_exporter": "python",
   "pygments_lexer": "ipython3",
   "version": "3.11.9"
  }
 },
 "nbformat": 4,
 "nbformat_minor": 2
}
