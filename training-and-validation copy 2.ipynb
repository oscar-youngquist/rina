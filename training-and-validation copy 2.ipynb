{
 "cells": [
  {
   "cell_type": "markdown",
   "metadata": {},
   "source": [
    "# Basis-Function Meta-Learaning for Rapid Introspective Neural Adaptation (RINA)"
   ]
  },
  {
   "cell_type": "markdown",
   "metadata": {},
   "source": [
    "This script loads quadrotor flight data in different wind conditions, trains a wind invariant representation of the unmodeled aerodynamics, and tests the performance of the model when adapting to new data in different wind conditions. "
   ]
  },
  {
   "cell_type": "markdown",
   "metadata": {},
   "source": [
    "## Import libraries"
   ]
  },
  {
   "cell_type": "code",
   "execution_count": 1,
   "metadata": {},
   "outputs": [
    {
     "name": "stderr",
     "output_type": "stream",
     "text": [
      "/home/hcr/anaconda3/envs/rina/lib/python3.12/site-packages/torch/__init__.py:696: UserWarning: torch.set_default_tensor_type() is deprecated as of PyTorch 2.1, please use torch.set_default_dtype() and torch.set_default_device() as alternatives. (Triggered internally at /opt/conda/conda-bld/pytorch_1708025845206/work/torch/csrc/tensor/python_tensor.cpp:451.)\n",
      "  _C._set_default_tensor_type(t)\n"
     ]
    }
   ],
   "source": [
    "import numpy as np\n",
    "import matplotlib.pyplot as plt\n",
    "\n",
    "import torch\n",
    "import torch.nn as nn\n",
    "import torch.nn.functional as F\n",
    "import torch.optim as optim\n",
    "from torch.utils.data import Dataset, DataLoader\n",
    "torch.set_default_tensor_type('torch.DoubleTensor')\n",
    "from torch.utils.data.dataset import random_split\n",
    "import os \n",
    "import utils\n",
    "import mlmodel\n",
    "\n",
    "from datetime import datetime\n",
    "import re"
   ]
  },
  {
   "cell_type": "code",
   "execution_count": 2,
   "metadata": {},
   "outputs": [
    {
     "name": "stdout",
     "output_type": "stream",
     "text": [
      "True\n",
      "1\n"
     ]
    }
   ],
   "source": [
    "print(torch.cuda.is_available())\n",
    "print(torch.cuda.device_count())\n",
    "device = torch.device('cuda:0' if torch.cuda.is_available() else 'cpu')\n",
    "# device = 'cpu'"
   ]
  },
  {
   "cell_type": "code",
   "execution_count": 3,
   "metadata": {},
   "outputs": [
    {
     "name": "stdout",
     "output_type": "stream",
     "text": [
      "running on linux, setting 2 workers\n"
     ]
    }
   ],
   "source": [
    "import sys\n",
    "if sys.platform == 'win32':\n",
    "    NUM_WORKERS = 0 # Windows does not support multiprocessing\n",
    "else:\n",
    "    NUM_WORKERS = 2\n",
    "print('running on ' + sys.platform + ', setting ' + str(NUM_WORKERS) + ' workers')"
   ]
  },
  {
   "cell_type": "markdown",
   "metadata": {},
   "source": [
    "## Load the data and create some simple visualizations"
   ]
  },
  {
   "cell_type": "code",
   "execution_count": 4,
   "metadata": {},
   "outputs": [
    {
     "name": "stdout",
     "output_type": "stream",
     "text": [
      "/home/hcr/Research/DARoSLab/rina/training_results/06_21_202414_01_10_cmd_residual_centered_96_128_a16_h20_e10K\n",
      "rina_dim-a-16_q-q_dot-tau_cmd\n"
     ]
    }
   ],
   "source": [
    "# dim_a = 3\n",
    "# features = ['q', 'q_dot', 'tau']\n",
    "# label = 'tau_residual_m'\n",
    "\n",
    "dim_a = 16\n",
    "features = ['q', 'q_dot', 'tau_cmd']\n",
    "label = 'tau_residual_cmd_centered'\n",
    "\n",
    "labels = [\"FR_hip\", \"FR_knee\", \"FR_foot\", \"FL_hip\", \"FL_knee\", \"FL_foot\",\n",
    "          \"RR_hip\", \"RR_knee\", \"RR_foot\", \"RL_hip\", \"RL_knee\", \"RL_foot\"]\n",
    "\n",
    "# Training data collected from the neural-fly drone\n",
    "dataset = 'rina' \n",
    "dataset_folder = '/home/hcr/Research/DARoSLab/DARoS-Core/lcm_converted_log/05_17_2024_formal/training_data_ex_centered/'\n",
    "testdata_folder = \"/home/hcr/Research/DARoSLab/DARoS-Core/lcm_converted_log/05_17_2024_formal/eval_data_ex_centered/\"\n",
    "\n",
    "\n",
    "# dataset_folder = '/home/oyoungquist/Research/RINA/rina/data/lcm_converted_log/05_17_2024_formal/training_data_ex/'\n",
    "# testdata_folder = \"/home/oyoungquist/Research/RINA/rina/data/lcm_converted_log/05_17_2024_formal/eval_data_ex/\"\n",
    "\n",
    "\n",
    "\n",
    "now = datetime.now() # current date and time\n",
    "date_time = now.strftime(\"%m/%d/%Y%H:%M:%S\")\n",
    "date_time = re.sub('[^0-9a-zA-Z]+', '_', date_time)\n",
    "\n",
    "date_time += \"_cmd_residual_centered_96_128_a16_h20_e10K\"\n",
    "\n",
    "cwd = os.getcwd()\n",
    "\n",
    "output_path_base = os.path.join(cwd, \"training_results\", date_time)\n",
    "\n",
    "if not os.path.exists(output_path_base):\n",
    "    os.makedirs(output_path_base)\n",
    "\n",
    "print(output_path_base)\n",
    "\n",
    "# # Training data collected from an intel aero drone\n",
    "# dataset = 'neural-fly-transfer'\n",
    "# dataset_folder = 'data/training-transfer'\n",
    "# hover_pwm = 910 # mean hover pwm for neural-fly drone\n",
    "# intel_hover_pwm = 1675 # mean hover pwm for intel-aero drone\n",
    "# hover_pwm_ratio = hover_pwm / intel_hover_pwm # scaling ratio from system id\n",
    "\n",
    "modelname = f\"{dataset}_dim-a-{dim_a}_{'-'.join(features)}\" # 'intel-aero_fa-num-Tsp_v-q-pwm'\n",
    "\n",
    "print(modelname)"
   ]
  },
  {
   "cell_type": "code",
   "execution_count": 5,
   "metadata": {},
   "outputs": [
    {
     "name": "stdout",
     "output_type": "stream",
     "text": [
      "\n",
      "-----------------------------------------------\n",
      "\n"
     ]
    }
   ],
   "source": [
    "RawData = utils.load_data(dataset_folder)\n",
    "Data = utils.format_data(RawData, features=features, output=label, body_offset=0)\n",
    "\n",
    "print(\"\\n-----------------------------------------------\\n\")\n",
    "\n",
    "RawData = utils.load_data(testdata_folder) # expnames='(baseline_)([0-9]*|no)wind'\n",
    "TestData = utils.format_data(RawData, features=features, output=label, body_offset=0) # wind condition label, C, will not make sense for this data - that's okay since C is only used in the training process"
   ]
  },
  {
   "cell_type": "code",
   "execution_count": 6,
   "metadata": {},
   "outputs": [],
   "source": [
    "# training_data_images = os.path.join(output_path_base, \"training_data_images\")\n",
    "# test_data_images = os.path.join(output_path_base, \"test_data_images\")\n",
    "\n",
    "# if not os.path.exists(training_data_images):\n",
    "#     os.makedirs(training_data_images)\n",
    "\n",
    "# if not os.path.exists(test_data_images):\n",
    "#     os.makedirs(test_data_images)\n",
    "\n",
    "# for data in Data:\n",
    "#     utils.plot_subdataset(data, features, labels, os.path.join(training_data_images, \"{:s}.png\".format(data.meta['condition'])), title_prefix=\"(Training data)\")\n",
    "\n",
    "# for data in TestData:\n",
    "#     utils.plot_subdataset(data, features, labels, os.path.join(test_data_images, \"{:s}.png\".format(data.meta['condition'])), title_prefix=\"(Testing Data)\")"
   ]
  },
  {
   "cell_type": "markdown",
   "metadata": {},
   "source": [
    "## Initialize some other hyperparameters"
   ]
  },
  {
   "cell_type": "code",
   "execution_count": 7,
   "metadata": {},
   "outputs": [
    {
     "name": "stdout",
     "output_type": "stream",
     "text": [
      "dims of (x, y) are (36, 12)\n",
      "there are 3 different conditions\n"
     ]
    }
   ],
   "source": [
    "options = {}\n",
    "options['dim_x'] = Data[0].X.shape[1]\n",
    "options['dim_y'] = Data[0].Y.shape[1]\n",
    "options['num_c'] = len(Data)\n",
    "print('dims of (x, y) are', (options['dim_x'], options['dim_y']))\n",
    "print('there are ' + str(options['num_c']) + ' different conditions')"
   ]
  },
  {
   "cell_type": "code",
   "execution_count": 8,
   "metadata": {},
   "outputs": [],
   "source": [
    "# Set hyperparameters\n",
    "options['features'] = features\n",
    "options['dim_a'] = dim_a\n",
    "options['loss_type'] = 'crossentropy-loss'\n",
    "\n",
    "options['shuffle'] = True # True: shuffle trajectories to data points\n",
    "# options['K_shot'] = 32 # number of K-shot for least square on a\n",
    "options['phi_shot'] = 256 # batch size for training phi\n",
    "\n",
    "# options['alpha'] = 0.01 # adversarial regularization loss\n",
    "# options['alpha'] = 0.055 # adversarial regularization loss\n",
    "\n",
    "\n",
    "# options['learning_rate'] = 5e-4\n",
    "# options['learning_rate'] = 0.001497\n",
    "options['frequency_h'] = 2 # how many times phi is updated between h updates, on average\n",
    "# options['SN'] = 2. # maximum single layer spectral norm of phi\n",
    "# options['SN'] = 4. # maximum single layer spectral norm of phi\n",
    "# options['gamma'] = 10. # max 2-norm of a\n",
    "options['num_epochs'] = 10000\n",
    "\n",
    "options['K_shot'] = 50 # number of K-shot for least square on a\n",
    "options['alpha'] = 0.048 # adversarial regularization loss\n",
    "options['SN'] = 6. # maximum single layer spectral norm of phi\n",
    "options['gamma'] = 10. # max 2-norm of a\n",
    "options['learning_rate'] = 0.0009\n",
    "\n",
    "options['phi_shot'] = 4096 # batch size for training phi\n",
    "\n",
    "\n",
    "options['phi_first_out'] = 96\n",
    "options['phi_second_out'] = 128\n",
    "options['discrim_hidden'] = 20\n",
    "\n",
    "options['output_path'] = output_path_base\n",
    "options['device'] = device"
   ]
  },
  {
   "cell_type": "markdown",
   "metadata": {},
   "source": [
    "# Dataset Generation"
   ]
  },
  {
   "cell_type": "markdown",
   "metadata": {},
   "source": [
    "The adaptation dataset will be used to update $a$ in each training loop.\n",
    "The training dataset will be used to train $\\phi$ in each training loop."
   ]
  },
  {
   "cell_type": "code",
   "execution_count": 9,
   "metadata": {},
   "outputs": [],
   "source": [
    "# Trainset = []\n",
    "# Adaptset = []\n",
    "Trainloader = []\n",
    "Adaptloader = []\n",
    "for i in range(options['num_c']):\n",
    "    fullset = mlmodel.MyDataset(Data[i].X, Data[i].Y, Data[i].C)\n",
    "    \n",
    "    l = len(Data[i].X)\n",
    "    if options['shuffle']:\n",
    "        trainset, adaptset = random_split(fullset, [int(2/3*l), l-int(2/3*l)])\n",
    "    else:\n",
    "        trainset = mlmodel.MyDataset(Data[i].X[:int(2/3*l)], Data[i].Y[:int(2/3*l)], Data[i].C) \n",
    "        adaptset = mlmodel.MyDataset(Data[i].X[int(2/3*l):], Data[i].Y[int(2/3*l):], Data[i].C)\n",
    "\n",
    "    trainloader = torch.utils.data.DataLoader(trainset, batch_size=options['phi_shot'], shuffle=options['shuffle'], num_workers=NUM_WORKERS)\n",
    "    adaptloader = torch.utils.data.DataLoader(adaptset, batch_size=options['K_shot'], shuffle=options['shuffle'], num_workers=NUM_WORKERS)\n",
    "   \n",
    "    # Trainset.append(trainset)\n",
    "    # Adaptset.append(adaptset)\n",
    "    Trainloader.append(trainloader) # for training phi\n",
    "    Adaptloader.append(adaptloader) # for LS on a"
   ]
  },
  {
   "cell_type": "markdown",
   "metadata": {},
   "source": [
    "# Domain Adversarially Invariant Meta Learning\n",
    "\n",
    "Assume the state $x\\in\\mathbb{R}^n$ and $c$ is hidden state used to represent changing environment. We are interested in learning some function $f(x(t),c(t))$. $f(x(t),c(t))$ can be separated into three terms: $$f(x(t),c(t))=\\phi(x(t))a(c(t))+d(t),$$\n",
    "where $\\phi(x(t))$ captures the $c$-variant part and $a(c(t))\\in\\mathbb{R}^m$ is implicitly a function of the hidden state $c(t)$. Finally, $d(t)$ is the residual noise term.\n",
    "\n",
    "We want to learn $\\phi(x)$ such that it doesn't include any information about $c$. To reach this goal, we introduce another neural network $h$ where $h(\\phi(x))$ tries to predict $c$.\n",
    "\n",
    "The loss function is given as\n",
    "$$\\max_h\\min_{\\phi, \\left\\{a_{c_j}\\right\\}_j}\\sum_{j}\\sum_{i}\\left\\|\\phi(x^{(i)}_{c_j})a_{c_j}-f(x^{(i)}_{c_j},c_j)\\right\\|^2-\\alpha\\cdot\\text{CrossEntropy}\\left(h(\\phi(x^{(i)}_{c_j})),j\\right)$$\n",
    "Note that the $\\text{CrossEntropy-loss}$ will not require physical encoding of $c_j$ in training, only a label for $c$ that corresponds to the subdataset (that is, the label $c$ has no physical meaning)."
   ]
  },
  {
   "cell_type": "markdown",
   "metadata": {},
   "source": [
    "# Initialize the models"
   ]
  },
  {
   "cell_type": "code",
   "execution_count": 10,
   "metadata": {},
   "outputs": [
    {
     "data": {
      "text/plain": [
       "H_Net_CrossEntropy(\n",
       "  (fc1): Linear(in_features=16, out_features=20, bias=True)\n",
       "  (fc2): Linear(in_features=20, out_features=3, bias=True)\n",
       ")"
      ]
     },
     "execution_count": 10,
     "metadata": {},
     "output_type": "execute_result"
    }
   ],
   "source": [
    "# Store the model class definition in an external file so they can be referenced outside this script\n",
    "phi_net = mlmodel.Phi_Net(options)\n",
    "h_net = mlmodel.H_Net_CrossEntropy(options)\n",
    "\n",
    "# push to GPU\n",
    "phi_net.to(device)\n",
    "h_net.to(device)"
   ]
  },
  {
   "cell_type": "code",
   "execution_count": 11,
   "metadata": {},
   "outputs": [],
   "source": [
    "criterion = nn.MSELoss()\n",
    "criterion_h = nn.CrossEntropyLoss()\n",
    "optimizer_h = optim.Adam(h_net.parameters(), lr=options['learning_rate'])\n",
    "optimizer_phi = optim.Adam(phi_net.parameters(), lr=options['learning_rate'])"
   ]
  },
  {
   "cell_type": "markdown",
   "metadata": {},
   "source": [
    "# Meta-Training Algorithm\n",
    "\n",
    "**Step 0: sample $c$, and sample $B+K$ data points in correponding subdataset $\\{x_i,c,f(x_i,c)\\}_{i}$**\n",
    "\n",
    "**Step 1: estimate $a$ using least-square**\n",
    "\n",
    "$K$ data points (sampled from the same wind condition $c$) are used to compute $a$ using least-squares, i.e., adaptation:\n",
    "$$\n",
    "\\underbrace{\n",
    "    \\begin{bmatrix}\n",
    "        \\phi(x_1) \\\\ \\phi(x_2) \\\\ \\vdots \\\\ \\phi(x_K) \n",
    "    \\end{bmatrix}}\n",
    "    _{\\Phi\\in\\mathbb{R}^{K\\times \\dim(a)}}\n",
    "\\cdot\n",
    "\\underbrace{\n",
    "    \\begin{bmatrix}\n",
    "        a_1 & \\cdots & a_{\\dim(y)} \n",
    "    \\end{bmatrix}}\n",
    "    _{a\\in\\mathbb{R}^{\\dim(a)\\times \\dim(y)}}\n",
    "=\n",
    "\\underbrace{\n",
    "    \\begin{bmatrix}\n",
    "        f_1(x_1) & \\cdots & f_{\\dim(y)}(x_1) \\\\ f_1(x_2) & \\cdots & f_{\\dim(y)}(x_2) \\\\ \\vdots & \\vdots & \\vdots\\\\ f_1(x_K) & \\cdots & f_{\\dim(y)}(x_K) \n",
    "    \\end{bmatrix}}\n",
    "    _{Y\\in\\mathbb{R}^{K\\times \\dim(y)}}\n",
    "$$\n",
    "\n",
    "The least square solution is given by\n",
    "$$a=(\\Phi^\\top\\Phi)^{-1}\\Phi^\\top Y$$\n",
    "Normalization on $a$ is implemented to avoid ambiguity of $\\phi(x)a$ (since $\\phi(x)a=(0.1\\phi(x))\\cdot(10a)$):\n",
    "$$a\\leftarrow \\gamma\\cdot\\frac{a}{\\|a\\|_F},\\quad\\text{if}\\,\\,\\|a\\|_F>\\gamma$$\n",
    "Note that $a$ is an implicit function of $\\phi$.\n",
    "\n",
    "**Step 2: fix $h$ and train $\\phi$**\n",
    "\n",
    "With this $a$, another $B$ data points (with same $c$) are used for gradient descent with loss\n",
    "$$\\mathcal{L}(\\phi)=\\|f(x)-\\phi(x)a\\|_2^2-\\alpha\\cdot\\|h(\\phi(x))-c\\|_2^2$$\n",
    "\n",
    "**Step 3: fix $\\phi$ and train discriminator $h$**\n",
    "\n",
    "Finally, these $B$ data points are used again for gradient descent on $h$ with loss\n",
    "$$\\mathcal{L}(h)=\\|h(\\phi(x))-c\\|_2^2$$\n",
    "We may run this step less frequently than step 2, to improve stability in training (a trick from GAN)."
   ]
  },
  {
   "cell_type": "code",
   "execution_count": 12,
   "metadata": {
    "tags": []
   },
   "outputs": [
    {
     "name": "stderr",
     "output_type": "stream",
     "text": [
      "<>:57: SyntaxWarning: invalid escape sequence '\\p'\n",
      "<>:57: SyntaxWarning: invalid escape sequence '\\p'\n",
      "/tmp/ipykernel_143671/2284369876.py:57: SyntaxWarning: invalid escape sequence '\\p'\n",
      "  '''\n"
     ]
    },
    {
     "name": "stdout",
     "output_type": "stream",
     "text": [
      "[1] loss_f: 7.10 loss_c: 1.10\n",
      "[11] loss_f: 6.64 loss_c: 1.10\n",
      "[21] loss_f: 6.03 loss_c: 1.10\n",
      "[31] loss_f: 5.24 loss_c: 1.10\n",
      "[41] loss_f: 5.28 loss_c: 1.10\n",
      "[51] loss_f: 4.56 loss_c: 1.11\n",
      "[61] loss_f: 5.06 loss_c: 1.10\n",
      "[71] loss_f: 5.06 loss_c: 1.11\n",
      "[81] loss_f: 3.99 loss_c: 1.11\n",
      "[91] loss_f: 5.11 loss_c: 1.10\n",
      "[101] loss_f: 4.99 loss_c: 1.10\n",
      "[111] loss_f: 3.92 loss_c: 1.10\n",
      "[121] loss_f: 4.14 loss_c: 1.09\n",
      "[131] loss_f: 4.49 loss_c: 1.09\n",
      "[141] loss_f: 3.84 loss_c: 1.09\n",
      "[151] loss_f: 3.81 loss_c: 1.09\n",
      "[161] loss_f: 3.61 loss_c: 1.09\n",
      "[171] loss_f: 4.05 loss_c: 1.09\n",
      "[181] loss_f: 3.72 loss_c: 1.09\n",
      "[191] loss_f: 3.48 loss_c: 1.09\n",
      "[201] loss_f: 3.51 loss_c: 1.10\n",
      "[211] loss_f: 3.78 loss_c: 1.10\n",
      "[221] loss_f: 3.52 loss_c: 1.10\n"
     ]
    },
    {
     "name": "stderr",
     "output_type": "stream",
     "text": [
      "Traceback (most recent call last):\n",
      "  File \"/home/hcr/anaconda3/envs/rina/lib/python3.12/multiprocessing/util.py\", line 300, in _run_finalizers\n",
      "    finalizer()\n",
      "  File \"/home/hcr/anaconda3/envs/rina/lib/python3.12/multiprocessing/util.py\", line 224, in __call__\n",
      "    res = self._callback(*self._args, **self._kwargs)\n",
      "          ^^^^^^^^^^^^^^^^^^^^^^^^^^^^^^^^^^^^^^^^^^^\n",
      "  File \"/home/hcr/anaconda3/envs/rina/lib/python3.12/multiprocessing/util.py\", line 133, in _remove_temp_dir\n",
      "    rmtree(tempdir)\n",
      "  File \"/home/hcr/anaconda3/envs/rina/lib/python3.12/shutil.py\", line 784, in rmtree\n",
      "    onexc(os.rmdir, path, err)\n",
      "  File \"/home/hcr/anaconda3/envs/rina/lib/python3.12/shutil.py\", line 782, in rmtree\n",
      "    os.rmdir(path, dir_fd=dir_fd)\n",
      "OSError: [Errno 39] Directory not empty: '/tmp/pymp-t17y2a76'\n"
     ]
    },
    {
     "name": "stdout",
     "output_type": "stream",
     "text": [
      "[231] loss_f: 3.24 loss_c: 1.10\n",
      "[241] loss_f: 3.69 loss_c: 1.09\n",
      "[251] loss_f: 3.16 loss_c: 1.10\n",
      "[261] loss_f: 4.36 loss_c: 1.10\n",
      "[271] loss_f: 3.92 loss_c: 1.09\n",
      "[281] loss_f: 3.66 loss_c: 1.09\n",
      "[291] loss_f: 3.17 loss_c: 1.09\n",
      "[301] loss_f: 3.48 loss_c: 1.09\n",
      "[311] loss_f: 3.02 loss_c: 1.09\n",
      "[321] loss_f: 3.02 loss_c: 1.09\n"
     ]
    },
    {
     "name": "stderr",
     "output_type": "stream",
     "text": [
      "Traceback (most recent call last):\n",
      "  File \"/home/hcr/anaconda3/envs/rina/lib/python3.12/multiprocessing/util.py\", line 300, in _run_finalizers\n",
      "    finalizer()\n",
      "  File \"/home/hcr/anaconda3/envs/rina/lib/python3.12/multiprocessing/util.py\", line 224, in __call__\n",
      "    res = self._callback(*self._args, **self._kwargs)\n",
      "          ^^^^^^^^^^^^^^^^^^^^^^^^^^^^^^^^^^^^^^^^^^^\n",
      "  File \"/home/hcr/anaconda3/envs/rina/lib/python3.12/multiprocessing/util.py\", line 133, in _remove_temp_dir\n",
      "    rmtree(tempdir)\n",
      "  File \"/home/hcr/anaconda3/envs/rina/lib/python3.12/shutil.py\", line 784, in rmtree\n",
      "    onexc(os.rmdir, path, err)\n",
      "  File \"/home/hcr/anaconda3/envs/rina/lib/python3.12/shutil.py\", line 782, in rmtree\n",
      "    os.rmdir(path, dir_fd=dir_fd)\n",
      "OSError: [Errno 39] Directory not empty: '/tmp/pymp-mb6s6i8k'\n",
      "Traceback (most recent call last):\n",
      "  File \"/home/hcr/anaconda3/envs/rina/lib/python3.12/multiprocessing/util.py\", line 300, in _run_finalizers\n",
      "    finalizer()\n",
      "  File \"/home/hcr/anaconda3/envs/rina/lib/python3.12/multiprocessing/util.py\", line 224, in __call__\n",
      "    res = self._callback(*self._args, **self._kwargs)\n",
      "          ^^^^^^^^^^^^^^^^^^^^^^^^^^^^^^^^^^^^^^^^^^^\n",
      "  File \"/home/hcr/anaconda3/envs/rina/lib/python3.12/multiprocessing/util.py\", line 133, in _remove_temp_dir\n",
      "    rmtree(tempdir)\n",
      "  File \"/home/hcr/anaconda3/envs/rina/lib/python3.12/shutil.py\", line 784, in rmtree\n",
      "    onexc(os.rmdir, path, err)\n",
      "  File \"/home/hcr/anaconda3/envs/rina/lib/python3.12/shutil.py\", line 782, in rmtree\n",
      "    os.rmdir(path, dir_fd=dir_fd)\n",
      "OSError: [Errno 39] Directory not empty: '/tmp/pymp-l9dnxkcy'\n"
     ]
    },
    {
     "name": "stdout",
     "output_type": "stream",
     "text": [
      "[331] loss_f: 2.94 loss_c: 1.09\n",
      "[341] loss_f: 2.86 loss_c: 1.09\n",
      "[351] loss_f: 3.77 loss_c: 1.09\n",
      "[361] loss_f: 4.17 loss_c: 1.09\n",
      "[371] loss_f: 3.04 loss_c: 1.09\n",
      "[381] loss_f: 3.68 loss_c: 1.09\n",
      "[391] loss_f: 3.00 loss_c: 1.08\n",
      "[401] loss_f: 3.09 loss_c: 1.09\n",
      "[411] loss_f: 3.60 loss_c: 1.09\n",
      "[421] loss_f: 3.16 loss_c: 1.09\n"
     ]
    },
    {
     "name": "stderr",
     "output_type": "stream",
     "text": [
      "Traceback (most recent call last):\n",
      "  File \"/home/hcr/anaconda3/envs/rina/lib/python3.12/multiprocessing/util.py\", line 300, in _run_finalizers\n",
      "    finalizer()\n",
      "  File \"/home/hcr/anaconda3/envs/rina/lib/python3.12/multiprocessing/util.py\", line 224, in __call__\n",
      "    res = self._callback(*self._args, **self._kwargs)\n",
      "          ^^^^^^^^^^^^^^^^^^^^^^^^^^^^^^^^^^^^^^^^^^^\n",
      "  File \"/home/hcr/anaconda3/envs/rina/lib/python3.12/multiprocessing/util.py\", line 133, in _remove_temp_dir\n",
      "    rmtree(tempdir)\n",
      "  File \"/home/hcr/anaconda3/envs/rina/lib/python3.12/shutil.py\", line 784, in rmtree\n",
      "    onexc(os.rmdir, path, err)\n",
      "  File \"/home/hcr/anaconda3/envs/rina/lib/python3.12/shutil.py\", line 782, in rmtree\n",
      "    os.rmdir(path, dir_fd=dir_fd)\n",
      "OSError: [Errno 39] Directory not empty: '/tmp/pymp-rdmpos0s'\n"
     ]
    },
    {
     "name": "stdout",
     "output_type": "stream",
     "text": [
      "[431] loss_f: 3.36 loss_c: 1.09\n",
      "[441] loss_f: 2.63 loss_c: 1.09\n",
      "[451] loss_f: 3.04 loss_c: 1.09\n",
      "[461] loss_f: 2.87 loss_c: 1.08\n",
      "[471] loss_f: 2.97 loss_c: 1.09\n",
      "[481] loss_f: 2.96 loss_c: 1.09\n",
      "[491] loss_f: 2.87 loss_c: 1.09\n",
      "[501] loss_f: 2.89 loss_c: 1.09\n",
      "[511] loss_f: 2.80 loss_c: 1.08\n",
      "[521] loss_f: 2.86 loss_c: 1.09\n",
      "[531] loss_f: 2.90 loss_c: 1.08\n",
      "[541] loss_f: 2.82 loss_c: 1.09\n"
     ]
    },
    {
     "name": "stderr",
     "output_type": "stream",
     "text": [
      "Traceback (most recent call last):\n",
      "  File \"/home/hcr/anaconda3/envs/rina/lib/python3.12/multiprocessing/util.py\", line 300, in _run_finalizers\n",
      "    finalizer()\n",
      "  File \"/home/hcr/anaconda3/envs/rina/lib/python3.12/multiprocessing/util.py\", line 224, in __call__\n",
      "    res = self._callback(*self._args, **self._kwargs)\n",
      "          ^^^^^^^^^^^^^^^^^^^^^^^^^^^^^^^^^^^^^^^^^^^\n",
      "  File \"/home/hcr/anaconda3/envs/rina/lib/python3.12/multiprocessing/util.py\", line 133, in _remove_temp_dir\n",
      "    rmtree(tempdir)\n",
      "  File \"/home/hcr/anaconda3/envs/rina/lib/python3.12/shutil.py\", line 784, in rmtree\n",
      "    onexc(os.rmdir, path, err)\n",
      "  File \"/home/hcr/anaconda3/envs/rina/lib/python3.12/shutil.py\", line 782, in rmtree\n",
      "    os.rmdir(path, dir_fd=dir_fd)\n",
      "OSError: [Errno 39] Directory not empty: '/tmp/pymp-uh9a_kn6'\n"
     ]
    },
    {
     "name": "stdout",
     "output_type": "stream",
     "text": [
      "[551] loss_f: 3.26 loss_c: 1.08\n"
     ]
    },
    {
     "name": "stderr",
     "output_type": "stream",
     "text": [
      "Traceback (most recent call last):\n",
      "  File \"/home/hcr/anaconda3/envs/rina/lib/python3.12/multiprocessing/util.py\", line 300, in _run_finalizers\n",
      "    finalizer()\n",
      "  File \"/home/hcr/anaconda3/envs/rina/lib/python3.12/multiprocessing/util.py\", line 224, in __call__\n",
      "    res = self._callback(*self._args, **self._kwargs)\n",
      "          ^^^^^^^^^^^^^^^^^^^^^^^^^^^^^^^^^^^^^^^^^^^\n",
      "  File \"/home/hcr/anaconda3/envs/rina/lib/python3.12/multiprocessing/util.py\", line 133, in _remove_temp_dir\n",
      "    rmtree(tempdir)\n",
      "  File \"/home/hcr/anaconda3/envs/rina/lib/python3.12/shutil.py\", line 784, in rmtree\n",
      "    onexc(os.rmdir, path, err)\n",
      "  File \"/home/hcr/anaconda3/envs/rina/lib/python3.12/shutil.py\", line 782, in rmtree\n",
      "    os.rmdir(path, dir_fd=dir_fd)\n",
      "OSError: [Errno 39] Directory not empty: '/tmp/pymp-zdpntv4_'\n"
     ]
    },
    {
     "name": "stdout",
     "output_type": "stream",
     "text": [
      "[561] loss_f: 2.77 loss_c: 1.08\n",
      "[571] loss_f: 3.03 loss_c: 1.08\n"
     ]
    },
    {
     "name": "stderr",
     "output_type": "stream",
     "text": [
      "Traceback (most recent call last):\n",
      "  File \"/home/hcr/anaconda3/envs/rina/lib/python3.12/multiprocessing/util.py\", line 300, in _run_finalizers\n",
      "    finalizer()\n",
      "  File \"/home/hcr/anaconda3/envs/rina/lib/python3.12/multiprocessing/util.py\", line 224, in __call__\n",
      "    res = self._callback(*self._args, **self._kwargs)\n",
      "          ^^^^^^^^^^^^^^^^^^^^^^^^^^^^^^^^^^^^^^^^^^^\n",
      "  File \"/home/hcr/anaconda3/envs/rina/lib/python3.12/multiprocessing/util.py\", line 133, in _remove_temp_dir\n",
      "    rmtree(tempdir)\n",
      "  File \"/home/hcr/anaconda3/envs/rina/lib/python3.12/shutil.py\", line 784, in rmtree\n",
      "    onexc(os.rmdir, path, err)\n",
      "  File \"/home/hcr/anaconda3/envs/rina/lib/python3.12/shutil.py\", line 782, in rmtree\n",
      "    os.rmdir(path, dir_fd=dir_fd)\n",
      "OSError: [Errno 39] Directory not empty: '/tmp/pymp-sy_1yz7m'\n"
     ]
    },
    {
     "name": "stdout",
     "output_type": "stream",
     "text": [
      "[581] loss_f: 2.71 loss_c: 1.08\n",
      "[591] loss_f: 2.85 loss_c: 1.08\n",
      "[601] loss_f: 3.46 loss_c: 1.08\n"
     ]
    },
    {
     "name": "stderr",
     "output_type": "stream",
     "text": [
      "Traceback (most recent call last):\n",
      "  File \"/home/hcr/anaconda3/envs/rina/lib/python3.12/multiprocessing/util.py\", line 300, in _run_finalizers\n",
      "    finalizer()\n",
      "  File \"/home/hcr/anaconda3/envs/rina/lib/python3.12/multiprocessing/util.py\", line 224, in __call__\n",
      "    res = self._callback(*self._args, **self._kwargs)\n",
      "          ^^^^^^^^^^^^^^^^^^^^^^^^^^^^^^^^^^^^^^^^^^^\n",
      "  File \"/home/hcr/anaconda3/envs/rina/lib/python3.12/multiprocessing/util.py\", line 133, in _remove_temp_dir\n",
      "    rmtree(tempdir)\n",
      "  File \"/home/hcr/anaconda3/envs/rina/lib/python3.12/shutil.py\", line 784, in rmtree\n",
      "    onexc(os.rmdir, path, err)\n",
      "  File \"/home/hcr/anaconda3/envs/rina/lib/python3.12/shutil.py\", line 782, in rmtree\n",
      "    os.rmdir(path, dir_fd=dir_fd)\n",
      "OSError: [Errno 39] Directory not empty: '/tmp/pymp-ee7a2goh'\n"
     ]
    },
    {
     "name": "stdout",
     "output_type": "stream",
     "text": [
      "[611] loss_f: 3.00 loss_c: 1.08\n"
     ]
    },
    {
     "name": "stderr",
     "output_type": "stream",
     "text": [
      "Traceback (most recent call last):\n",
      "  File \"/home/hcr/anaconda3/envs/rina/lib/python3.12/multiprocessing/util.py\", line 300, in _run_finalizers\n",
      "    finalizer()\n",
      "  File \"/home/hcr/anaconda3/envs/rina/lib/python3.12/multiprocessing/util.py\", line 224, in __call__\n",
      "    res = self._callback(*self._args, **self._kwargs)\n",
      "          ^^^^^^^^^^^^^^^^^^^^^^^^^^^^^^^^^^^^^^^^^^^\n",
      "  File \"/home/hcr/anaconda3/envs/rina/lib/python3.12/multiprocessing/util.py\", line 133, in _remove_temp_dir\n",
      "    rmtree(tempdir)\n",
      "  File \"/home/hcr/anaconda3/envs/rina/lib/python3.12/shutil.py\", line 784, in rmtree\n",
      "    onexc(os.rmdir, path, err)\n",
      "  File \"/home/hcr/anaconda3/envs/rina/lib/python3.12/shutil.py\", line 782, in rmtree\n",
      "    os.rmdir(path, dir_fd=dir_fd)\n",
      "OSError: [Errno 39] Directory not empty: '/tmp/pymp-5ykxowpy'\n"
     ]
    },
    {
     "name": "stdout",
     "output_type": "stream",
     "text": [
      "[621] loss_f: 2.82 loss_c: 1.08\n",
      "[631] loss_f: 2.69 loss_c: 1.07\n",
      "[641] loss_f: 3.31 loss_c: 1.08\n",
      "[651] loss_f: 3.12 loss_c: 1.08\n",
      "[661] loss_f: 3.18 loss_c: 1.08\n",
      "[671] loss_f: 2.97 loss_c: 1.08\n",
      "[681] loss_f: 2.76 loss_c: 1.08\n",
      "[691] loss_f: 2.60 loss_c: 1.09\n",
      "[701] loss_f: 2.98 loss_c: 1.08\n",
      "[711] loss_f: 2.53 loss_c: 1.08\n",
      "[721] loss_f: 2.61 loss_c: 1.07\n",
      "[731] loss_f: 2.51 loss_c: 1.07\n",
      "[741] loss_f: 3.03 loss_c: 1.08\n",
      "[751] loss_f: 2.91 loss_c: 1.08\n",
      "[761] loss_f: 3.23 loss_c: 1.07\n",
      "[771] loss_f: 2.83 loss_c: 1.08\n",
      "[781] loss_f: 2.87 loss_c: 1.08\n",
      "[791] loss_f: 3.05 loss_c: 1.07\n",
      "[801] loss_f: 2.77 loss_c: 1.08\n",
      "[811] loss_f: 2.44 loss_c: 1.08\n",
      "[821] loss_f: 2.85 loss_c: 1.08\n",
      "[831] loss_f: 2.63 loss_c: 1.08\n",
      "[841] loss_f: 3.00 loss_c: 1.07\n",
      "[851] loss_f: 3.11 loss_c: 1.08\n"
     ]
    },
    {
     "name": "stderr",
     "output_type": "stream",
     "text": [
      "Traceback (most recent call last):\n",
      "  File \"/home/hcr/anaconda3/envs/rina/lib/python3.12/multiprocessing/util.py\", line 300, in _run_finalizers\n",
      "    finalizer()\n",
      "  File \"/home/hcr/anaconda3/envs/rina/lib/python3.12/multiprocessing/util.py\", line 224, in __call__\n",
      "    res = self._callback(*self._args, **self._kwargs)\n",
      "          ^^^^^^^^^^^^^^^^^^^^^^^^^^^^^^^^^^^^^^^^^^^\n",
      "  File \"/home/hcr/anaconda3/envs/rina/lib/python3.12/multiprocessing/util.py\", line 133, in _remove_temp_dir\n",
      "    rmtree(tempdir)\n",
      "  File \"/home/hcr/anaconda3/envs/rina/lib/python3.12/shutil.py\", line 784, in rmtree\n",
      "    onexc(os.rmdir, path, err)\n",
      "  File \"/home/hcr/anaconda3/envs/rina/lib/python3.12/shutil.py\", line 782, in rmtree\n",
      "    os.rmdir(path, dir_fd=dir_fd)\n",
      "OSError: [Errno 39] Directory not empty: '/tmp/pymp-kycfeoz5'\n"
     ]
    },
    {
     "name": "stdout",
     "output_type": "stream",
     "text": [
      "[861] loss_f: 2.68 loss_c: 1.07\n",
      "[871] loss_f: 2.62 loss_c: 1.07\n",
      "[881] loss_f: 2.85 loss_c: 1.07\n",
      "[891] loss_f: 2.54 loss_c: 1.07\n",
      "[901] loss_f: 2.36 loss_c: 1.07\n",
      "[911] loss_f: 2.67 loss_c: 1.08\n",
      "[921] loss_f: 3.01 loss_c: 1.08\n",
      "[931] loss_f: 2.62 loss_c: 1.08\n",
      "[941] loss_f: 2.69 loss_c: 1.07\n",
      "[951] loss_f: 2.63 loss_c: 1.08\n",
      "[961] loss_f: 2.72 loss_c: 1.08\n",
      "[971] loss_f: 2.79 loss_c: 1.07\n",
      "[981] loss_f: 2.60 loss_c: 1.07\n",
      "[991] loss_f: 2.48 loss_c: 1.07\n",
      "[1001] loss_f: 2.59 loss_c: 1.08\n",
      "[1011] loss_f: 2.78 loss_c: 1.07\n",
      "[1021] loss_f: 2.40 loss_c: 1.08\n",
      "[1031] loss_f: 2.67 loss_c: 1.08\n",
      "[1041] loss_f: 2.71 loss_c: 1.07\n",
      "[1051] loss_f: 2.75 loss_c: 1.08\n",
      "[1061] loss_f: 2.39 loss_c: 1.07\n",
      "[1071] loss_f: 3.40 loss_c: 1.07\n",
      "[1081] loss_f: 2.52 loss_c: 1.07\n",
      "[1091] loss_f: 2.90 loss_c: 1.08\n",
      "[1101] loss_f: 2.89 loss_c: 1.08\n",
      "[1111] loss_f: 2.60 loss_c: 1.07\n",
      "[1121] loss_f: 2.55 loss_c: 1.07\n",
      "[1131] loss_f: 2.52 loss_c: 1.07\n",
      "[1141] loss_f: 2.40 loss_c: 1.07\n",
      "[1151] loss_f: 2.83 loss_c: 1.07\n"
     ]
    },
    {
     "name": "stderr",
     "output_type": "stream",
     "text": [
      "Traceback (most recent call last):\n",
      "  File \"/home/hcr/anaconda3/envs/rina/lib/python3.12/multiprocessing/util.py\", line 300, in _run_finalizers\n",
      "    finalizer()\n",
      "  File \"/home/hcr/anaconda3/envs/rina/lib/python3.12/multiprocessing/util.py\", line 224, in __call__\n",
      "    res = self._callback(*self._args, **self._kwargs)\n",
      "          ^^^^^^^^^^^^^^^^^^^^^^^^^^^^^^^^^^^^^^^^^^^\n",
      "  File \"/home/hcr/anaconda3/envs/rina/lib/python3.12/multiprocessing/util.py\", line 133, in _remove_temp_dir\n",
      "    rmtree(tempdir)\n",
      "  File \"/home/hcr/anaconda3/envs/rina/lib/python3.12/shutil.py\", line 784, in rmtree\n",
      "    onexc(os.rmdir, path, err)\n",
      "  File \"/home/hcr/anaconda3/envs/rina/lib/python3.12/shutil.py\", line 782, in rmtree\n",
      "    os.rmdir(path, dir_fd=dir_fd)\n",
      "OSError: [Errno 39] Directory not empty: '/tmp/pymp-n5ri9m0s'\n"
     ]
    },
    {
     "name": "stdout",
     "output_type": "stream",
     "text": [
      "[1161] loss_f: 2.73 loss_c: 1.07\n",
      "[1171] loss_f: 2.95 loss_c: 1.08\n",
      "[1181] loss_f: 2.50 loss_c: 1.08\n",
      "[1191] loss_f: 2.56 loss_c: 1.08\n"
     ]
    },
    {
     "name": "stderr",
     "output_type": "stream",
     "text": [
      "Traceback (most recent call last):\n",
      "  File \"/home/hcr/anaconda3/envs/rina/lib/python3.12/multiprocessing/util.py\", line 300, in _run_finalizers\n",
      "    finalizer()\n",
      "  File \"/home/hcr/anaconda3/envs/rina/lib/python3.12/multiprocessing/util.py\", line 224, in __call__\n",
      "    res = self._callback(*self._args, **self._kwargs)\n",
      "          ^^^^^^^^^^^^^^^^^^^^^^^^^^^^^^^^^^^^^^^^^^^\n",
      "  File \"/home/hcr/anaconda3/envs/rina/lib/python3.12/multiprocessing/util.py\", line 133, in _remove_temp_dir\n",
      "    rmtree(tempdir)\n",
      "  File \"/home/hcr/anaconda3/envs/rina/lib/python3.12/shutil.py\", line 784, in rmtree\n",
      "    onexc(os.rmdir, path, err)\n",
      "  File \"/home/hcr/anaconda3/envs/rina/lib/python3.12/shutil.py\", line 782, in rmtree\n",
      "    os.rmdir(path, dir_fd=dir_fd)\n",
      "OSError: [Errno 39] Directory not empty: '/tmp/pymp-yppexeq0'\n"
     ]
    },
    {
     "name": "stdout",
     "output_type": "stream",
     "text": [
      "[1201] loss_f: 2.38 loss_c: 1.07\n",
      "[1211] loss_f: 2.47 loss_c: 1.07\n"
     ]
    },
    {
     "name": "stderr",
     "output_type": "stream",
     "text": [
      "Traceback (most recent call last):\n",
      "  File \"/home/hcr/anaconda3/envs/rina/lib/python3.12/multiprocessing/util.py\", line 300, in _run_finalizers\n",
      "    finalizer()\n",
      "  File \"/home/hcr/anaconda3/envs/rina/lib/python3.12/multiprocessing/util.py\", line 224, in __call__\n",
      "    res = self._callback(*self._args, **self._kwargs)\n",
      "          ^^^^^^^^^^^^^^^^^^^^^^^^^^^^^^^^^^^^^^^^^^^\n",
      "  File \"/home/hcr/anaconda3/envs/rina/lib/python3.12/multiprocessing/util.py\", line 133, in _remove_temp_dir\n",
      "    rmtree(tempdir)\n",
      "  File \"/home/hcr/anaconda3/envs/rina/lib/python3.12/shutil.py\", line 784, in rmtree\n",
      "    onexc(os.rmdir, path, err)\n",
      "  File \"/home/hcr/anaconda3/envs/rina/lib/python3.12/shutil.py\", line 782, in rmtree\n",
      "    os.rmdir(path, dir_fd=dir_fd)\n",
      "OSError: [Errno 39] Directory not empty: '/tmp/pymp-oh1bbr96'\n",
      "Traceback (most recent call last):\n",
      "  File \"/home/hcr/anaconda3/envs/rina/lib/python3.12/multiprocessing/util.py\", line 300, in _run_finalizers\n",
      "    finalizer()\n",
      "  File \"/home/hcr/anaconda3/envs/rina/lib/python3.12/multiprocessing/util.py\", line 224, in __call__\n",
      "    res = self._callback(*self._args, **self._kwargs)\n",
      "          ^^^^^^^^^^^^^^^^^^^^^^^^^^^^^^^^^^^^^^^^^^^\n",
      "  File \"/home/hcr/anaconda3/envs/rina/lib/python3.12/multiprocessing/util.py\", line 133, in _remove_temp_dir\n",
      "    rmtree(tempdir)\n",
      "  File \"/home/hcr/anaconda3/envs/rina/lib/python3.12/shutil.py\", line 784, in rmtree\n",
      "    onexc(os.rmdir, path, err)\n",
      "  File \"/home/hcr/anaconda3/envs/rina/lib/python3.12/shutil.py\", line 782, in rmtree\n",
      "    os.rmdir(path, dir_fd=dir_fd)\n",
      "OSError: [Errno 39] Directory not empty: '/tmp/pymp-t7mymktx'\n"
     ]
    },
    {
     "name": "stdout",
     "output_type": "stream",
     "text": [
      "[1221] loss_f: 2.42 loss_c: 1.07\n",
      "[1231] loss_f: 2.46 loss_c: 1.07\n"
     ]
    },
    {
     "name": "stderr",
     "output_type": "stream",
     "text": [
      "Traceback (most recent call last):\n",
      "  File \"/home/hcr/anaconda3/envs/rina/lib/python3.12/multiprocessing/util.py\", line 300, in _run_finalizers\n",
      "    finalizer()\n",
      "  File \"/home/hcr/anaconda3/envs/rina/lib/python3.12/multiprocessing/util.py\", line 224, in __call__\n",
      "    res = self._callback(*self._args, **self._kwargs)\n",
      "          ^^^^^^^^^^^^^^^^^^^^^^^^^^^^^^^^^^^^^^^^^^^\n",
      "  File \"/home/hcr/anaconda3/envs/rina/lib/python3.12/multiprocessing/util.py\", line 133, in _remove_temp_dir\n",
      "    rmtree(tempdir)\n",
      "  File \"/home/hcr/anaconda3/envs/rina/lib/python3.12/shutil.py\", line 784, in rmtree\n",
      "    onexc(os.rmdir, path, err)\n",
      "  File \"/home/hcr/anaconda3/envs/rina/lib/python3.12/shutil.py\", line 782, in rmtree\n",
      "    os.rmdir(path, dir_fd=dir_fd)\n",
      "OSError: [Errno 39] Directory not empty: '/tmp/pymp-3wvm_06m'\n"
     ]
    },
    {
     "name": "stdout",
     "output_type": "stream",
     "text": [
      "[1241] loss_f: 2.60 loss_c: 1.07\n"
     ]
    },
    {
     "name": "stderr",
     "output_type": "stream",
     "text": [
      "Traceback (most recent call last):\n",
      "  File \"/home/hcr/anaconda3/envs/rina/lib/python3.12/multiprocessing/util.py\", line 300, in _run_finalizers\n",
      "    finalizer()\n",
      "  File \"/home/hcr/anaconda3/envs/rina/lib/python3.12/multiprocessing/util.py\", line 224, in __call__\n",
      "    res = self._callback(*self._args, **self._kwargs)\n",
      "          ^^^^^^^^^^^^^^^^^^^^^^^^^^^^^^^^^^^^^^^^^^^\n",
      "  File \"/home/hcr/anaconda3/envs/rina/lib/python3.12/multiprocessing/util.py\", line 133, in _remove_temp_dir\n",
      "    rmtree(tempdir)\n",
      "  File \"/home/hcr/anaconda3/envs/rina/lib/python3.12/shutil.py\", line 784, in rmtree\n",
      "    onexc(os.rmdir, path, err)\n",
      "  File \"/home/hcr/anaconda3/envs/rina/lib/python3.12/shutil.py\", line 782, in rmtree\n",
      "    os.rmdir(path, dir_fd=dir_fd)\n",
      "OSError: [Errno 39] Directory not empty: '/tmp/pymp-zh5d4qz1'\n"
     ]
    },
    {
     "name": "stdout",
     "output_type": "stream",
     "text": [
      "[1251] loss_f: 2.51 loss_c: 1.07\n",
      "[1261] loss_f: 2.48 loss_c: 1.07\n",
      "[1271] loss_f: 2.43 loss_c: 1.07\n",
      "[1281] loss_f: 2.56 loss_c: 1.07\n",
      "[1291] loss_f: 2.33 loss_c: 1.08\n"
     ]
    },
    {
     "name": "stderr",
     "output_type": "stream",
     "text": [
      "Traceback (most recent call last):\n",
      "  File \"/home/hcr/anaconda3/envs/rina/lib/python3.12/multiprocessing/util.py\", line 300, in _run_finalizers\n",
      "    finalizer()\n",
      "  File \"/home/hcr/anaconda3/envs/rina/lib/python3.12/multiprocessing/util.py\", line 224, in __call__\n",
      "    res = self._callback(*self._args, **self._kwargs)\n",
      "          ^^^^^^^^^^^^^^^^^^^^^^^^^^^^^^^^^^^^^^^^^^^\n",
      "  File \"/home/hcr/anaconda3/envs/rina/lib/python3.12/multiprocessing/util.py\", line 133, in _remove_temp_dir\n",
      "    rmtree(tempdir)\n",
      "  File \"/home/hcr/anaconda3/envs/rina/lib/python3.12/shutil.py\", line 784, in rmtree\n",
      "    onexc(os.rmdir, path, err)\n",
      "  File \"/home/hcr/anaconda3/envs/rina/lib/python3.12/shutil.py\", line 782, in rmtree\n",
      "    os.rmdir(path, dir_fd=dir_fd)\n",
      "OSError: [Errno 39] Directory not empty: '/tmp/pymp-tze6t4bx'\n"
     ]
    },
    {
     "name": "stdout",
     "output_type": "stream",
     "text": [
      "[1301] loss_f: 2.63 loss_c: 1.07\n",
      "[1311] loss_f: 2.71 loss_c: 1.07\n",
      "[1321] loss_f: 2.74 loss_c: 1.07\n",
      "[1331] loss_f: 2.49 loss_c: 1.07\n",
      "[1341] loss_f: 2.66 loss_c: 1.08\n",
      "[1351] loss_f: 2.30 loss_c: 1.08\n"
     ]
    },
    {
     "name": "stderr",
     "output_type": "stream",
     "text": [
      "Traceback (most recent call last):\n",
      "  File \"/home/hcr/anaconda3/envs/rina/lib/python3.12/multiprocessing/util.py\", line 300, in _run_finalizers\n",
      "    finalizer()\n",
      "  File \"/home/hcr/anaconda3/envs/rina/lib/python3.12/multiprocessing/util.py\", line 224, in __call__\n",
      "    res = self._callback(*self._args, **self._kwargs)\n",
      "          ^^^^^^^^^^^^^^^^^^^^^^^^^^^^^^^^^^^^^^^^^^^\n",
      "  File \"/home/hcr/anaconda3/envs/rina/lib/python3.12/multiprocessing/util.py\", line 133, in _remove_temp_dir\n",
      "    rmtree(tempdir)\n",
      "  File \"/home/hcr/anaconda3/envs/rina/lib/python3.12/shutil.py\", line 784, in rmtree\n",
      "    onexc(os.rmdir, path, err)\n",
      "  File \"/home/hcr/anaconda3/envs/rina/lib/python3.12/shutil.py\", line 782, in rmtree\n",
      "    os.rmdir(path, dir_fd=dir_fd)\n",
      "OSError: [Errno 39] Directory not empty: '/tmp/pymp-p00t5x3x'\n"
     ]
    },
    {
     "name": "stdout",
     "output_type": "stream",
     "text": [
      "[1361] loss_f: 2.95 loss_c: 1.08\n",
      "[1371] loss_f: 2.77 loss_c: 1.08\n",
      "[1381] loss_f: 2.41 loss_c: 1.06\n",
      "[1391] loss_f: 2.77 loss_c: 1.06\n",
      "[1401] loss_f: 2.33 loss_c: 1.06\n"
     ]
    },
    {
     "name": "stderr",
     "output_type": "stream",
     "text": [
      "Exception ignored in: <function _releaseLock at 0x7fc512da4860>\n",
      "Traceback (most recent call last):\n",
      "  File \"/home/hcr/anaconda3/envs/rina/lib/python3.12/logging/__init__.py\", line 243, in _releaseLock\n",
      "    def _releaseLock():\n",
      "    \n",
      "KeyboardInterrupt: \n"
     ]
    },
    {
     "name": "stdout",
     "output_type": "stream",
     "text": [
      "[1411] loss_f: 2.46 loss_c: 1.06\n"
     ]
    }
   ],
   "source": [
    "model_save_freq = 50 # How often to save the model\n",
    "\n",
    "# Create some arrays to save training statistics\n",
    "Loss_f = [] # combined force prediction loss\n",
    "Loss_c = [] # combined adversarial loss\n",
    "\n",
    "# Loss for each subdataset \n",
    "Loss_test_nominal = [] # loss without any learning\n",
    "Loss_test_mean = [] # loss with mean predictor\n",
    "Loss_test_phi = [] # loss with NN\n",
    "for i in range(len(TestData)):\n",
    "    Loss_test_nominal.append([])\n",
    "    Loss_test_mean.append([])\n",
    "    Loss_test_phi.append([])\n",
    "\n",
    "# Training!\n",
    "for epoch in range(options['num_epochs']):\n",
    "    # Randomize the order in which we train over the subdatasets\n",
    "    arr = np.arange(options['num_c'])\n",
    "    np.random.shuffle(arr)\n",
    "\n",
    "    # Running loss over all subdatasets\n",
    "    running_loss_f = 0.0\n",
    "    running_loss_c = 0.0\n",
    "\n",
    "    phi_net.to(device)\n",
    "    h_net.to(device)\n",
    "\n",
    "    for i in arr:\n",
    "        with torch.no_grad():\n",
    "            adaptloader = Adaptloader[i]\n",
    "            kshot_data = next(iter(adaptloader))\n",
    "            trainloader = Trainloader[i]\n",
    "            data = next(iter(trainloader))\n",
    "        \n",
    "        optimizer_phi.zero_grad()\n",
    "\n",
    "        '''options['phi_shot'] = 256 # batch size for training phi\n",
    "\n",
    "        Least-square to get $a$ from K-shot data\n",
    "        '''\n",
    "        # push data to device\n",
    "        X = kshot_data['input'].to(device) # K x dim_x\n",
    "        Y = kshot_data['output'].to(device) # K x dim_y\n",
    "        Phi = phi_net(X) # K x dim_a\n",
    "        Phi_T = Phi.transpose(0, 1) # dim_a x K\n",
    "        A = torch.inverse(torch.mm(Phi_T, Phi)) # dim_a x dim_a\n",
    "        a = torch.mm(torch.mm(A, Phi_T), Y) # dim_a x dim_y\n",
    "        if torch.norm(a, 'fro') > options['gamma']:\n",
    "            a = a / torch.norm(a, 'fro') * options['gamma']\n",
    "\n",
    "        # push data off of device\n",
    "        X.cpu()\n",
    "        Y.cpu()\n",
    "        A.cpu()\n",
    "            \n",
    "        '''\n",
    "        Batch training \\phi_net\n",
    "        '''\n",
    "        inputs = data['input'].to(device) # B x dim_x\n",
    "        labels = data['output'].to(device) # B x dim_y\n",
    "        \n",
    "        c_labels = data['c'].type(torch.long).to(device)\n",
    "            \n",
    "        # forward + backward + optimize\n",
    "        outputs = torch.mm(phi_net(inputs), a)\n",
    "        loss_f = criterion(outputs, labels)\n",
    "        temp = phi_net(inputs)\n",
    "        \n",
    "        loss_c = criterion_h(h_net(temp), c_labels)\n",
    "            \n",
    "        loss_phi = loss_f - options['alpha'] * loss_c\n",
    "        loss_phi.backward()\n",
    "        optimizer_phi.step()\n",
    "        \n",
    "        '''\n",
    "        Discriminator training\n",
    "        '''\n",
    "        if np.random.rand() <= 1.0 / options['frequency_h']:\n",
    "            optimizer_h.zero_grad()\n",
    "            temp = phi_net(inputs)\n",
    "            \n",
    "            loss_c = criterion_h(h_net(temp), c_labels)\n",
    "            \n",
    "            loss_h = loss_c\n",
    "            loss_h.backward()\n",
    "            optimizer_h.step()\n",
    "        \n",
    "        '''\n",
    "        Spectral normalization\n",
    "        '''\n",
    "        # push network to CPU for normalization\n",
    "        phi_net.to('cpu')\n",
    "        if options['SN'] > 0:\n",
    "            for param in phi_net.parameters():\n",
    "                M = param.detach().numpy()\n",
    "                if M.ndim > 1:\n",
    "                    s = np.linalg.norm(M, 2)\n",
    "                    if s > options['SN']:\n",
    "                        param.data = param / s * options['SN']\n",
    "         \n",
    "        # push network to device\n",
    "        phi_net.to(device)\n",
    "        \n",
    "        running_loss_f += loss_f.cpu().item()\n",
    "        running_loss_c += loss_c.cpu().item()\n",
    "\n",
    "        # push data back to cpu\n",
    "        inputs.to('cpu')\n",
    "        labels.to('cpu')\n",
    "        c_labels.to('cpu')\n",
    "        a.to('cpu')\n",
    "    \n",
    "    # Save statistics\n",
    "    Loss_f.append(running_loss_f / options['num_c'])\n",
    "    Loss_c.append(running_loss_c / options['num_c'])\n",
    "    if epoch % 10 == 0:\n",
    "        print('[%d] loss_f: %.2f loss_c: %.2f' % (epoch + 1, running_loss_f / options['num_c'], running_loss_c / options['num_c']))\n",
    "        \n",
    "    with torch.no_grad():\n",
    "        for j in range(len(TestData)):\n",
    "            loss_nominal, loss_mean, loss_phi = mlmodel.error_statistics(TestData[j].X, TestData[j].Y, phi_net, h_net, options=options)\n",
    "            Loss_test_nominal[j].append(loss_nominal)\n",
    "            Loss_test_mean[j].append(loss_mean)\n",
    "            Loss_test_phi[j].append(loss_phi)\n",
    "\n",
    "    if epoch % model_save_freq == 0:\n",
    "        mlmodel.save_model(phi_net=phi_net, h_net=h_net, modelname=modelname + '-epoch-' + str(epoch), options=options)\n",
    "\n",
    "mlmodel.save_model(phi_net=phi_net, h_net=h_net, modelname=modelname + '-epoch-' + str(options[\"num_epochs\"]), options=options)"
   ]
  },
  {
   "cell_type": "code",
   "execution_count": null,
   "metadata": {},
   "outputs": [],
   "source": [
    "plt.subplot(2, 1, 1)\n",
    "plt.plot(Loss_f)\n",
    "plt.xlabel('epoch')\n",
    "plt.ylabel('f-loss [N]')\n",
    "plt.title('training f loss')\n",
    "plt.subplot(2, 1, 2)\n",
    "plt.plot(Loss_c)\n",
    "plt.title('training c loss')\n",
    "plt.xlabel('epoch')\n",
    "plt.ylabel('c-loss')\n",
    "plt.tight_layout()\n",
    "\n",
    "for j in range(len(TestData)):\n",
    "    plt.figure()\n",
    "    # plt.plot(Loss_test_nominal[j], label='nominal')\n",
    "    plt.plot(Loss_test_mean[j], label='mean')\n",
    "    plt.plot(np.array(Loss_test_phi[j]), label='phi*a')\n",
    "    # plt.plot(np.array(Loss_test_exp_forgetting[j]), label='exp forgetting')\n",
    "    plt.legend()\n",
    "    plt.title(f'Test data set {j} - {TestData[j].meta[\"condition\"]}')\n",
    "\n",
    "plt.show()"
   ]
  },
  {
   "cell_type": "code",
   "execution_count": null,
   "metadata": {},
   "outputs": [],
   "source": [
    "# Choose final model\n",
    "# stopping_epoch = 200\n",
    "# options['num_epochs'] = stopping_epoch\n",
    "\n",
    "# model_path = os.path.join(options[\"output_path\"], \"models\", (modelname + '-epoch-' + str(options[\"num_epochs\"])))\n",
    "model_path = os.path.join(\"/home/hcr/Research/DARoSLab/rina/training_results/06_19_202421_28_14_cmd_residual_96_128_a16_h20_e10K/models\", (modelname + '-epoch-' + str(2000)))\n",
    "final_model = mlmodel.load_model(modelname = model_path)"
   ]
  },
  {
   "cell_type": "code",
   "execution_count": null,
   "metadata": {},
   "outputs": [],
   "source": [
    "phi_net = final_model.phi\n",
    "h_net = final_model.h\n",
    "\n",
    "eval_adapt_start = 0\n",
    "eval_adapt_end = 2500\n",
    "eval_val_start = 2500\n",
    "eval_val_end = 5000\n",
    "\n",
    "vis_output_path_prefix_training_data = os.path.join(options[\"output_path\"], \"eval_images\", \"training\")\n",
    "vis_output_path_prefix_testing_data = os.path.join(options[\"output_path\"], \"eval_images\", \"testing\")\n",
    "\n",
    "# vis_output_path_prefix_training_data = os.path.join(\"/home/hcr/Research/DARoSLab/rina/training_results/04_02_202415_31_57/eval_images/training\")\n",
    "# vis_output_path_prefix_testing_data = os.path.join(\"/home/hcr/Research/DARoSLab/rina/training_results/04_02_202415_31_57/eval_images/testing\")"
   ]
  },
  {
   "cell_type": "markdown",
   "metadata": {},
   "source": [
    "Plot the measured aerodynamic force, labeled ground truth (gt), along with the region used for adapation (adapt), and the predicted region (val)"
   ]
  },
  {
   "cell_type": "code",
   "execution_count": null,
   "metadata": {},
   "outputs": [],
   "source": [
    "phi_net.to(device)\n",
    "\n",
    "for i, data in enumerate(Data):\n",
    "    print('------------------------------')\n",
    "    print(data.meta['condition'] + ':')\n",
    "    file_name = \"{:s}.png\".format(data.meta['condition'])\n",
    "    mlmodel.vis_validation(t=data.meta['steps'], x=data.X, y=data.Y, phi_net=phi_net, \n",
    "                           h_net=h_net, idx_adapt_start=eval_adapt_start, idx_adapt_end=eval_adapt_end, \n",
    "                           idx_val_start=eval_val_start, idx_val_end=eval_val_end, c=Data[i].C, options=options, \n",
    "                           output_path_prefix=vis_output_path_prefix_training_data, output_name=file_name)"
   ]
  },
  {
   "cell_type": "code",
   "execution_count": null,
   "metadata": {},
   "outputs": [],
   "source": [
    "for data in Data:\n",
    "    image_name = \"{:s}_errors_hist.png\".format(data.meta['condition'])\n",
    "    error_1, error_2, error_3 = mlmodel.error_statistics_hist(data.X, data.Y, phi_net, h_net, options, vis_output_path_prefix_training_data, image_name)\n",
    "    print('**** c =', str(data.C), ':', data.meta['condition'], '****')\n",
    "    print(f'Before learning: MSE is {error_1: .2f}')\n",
    "    print(f'Mean predictor: MSE is {error_2: .2f}')\n",
    "    print(f'After learning phi(x): MSE is {error_3: .2f}')\n",
    "    print('')"
   ]
  },
  {
   "cell_type": "markdown",
   "metadata": {},
   "source": [
    "## Test Data Error Analysis"
   ]
  },
  {
   "cell_type": "code",
   "execution_count": null,
   "metadata": {},
   "outputs": [],
   "source": [
    "for i, data in enumerate(TestData):\n",
    "    print('------------------------------')\n",
    "    print(data.meta['condition'] + ':')\n",
    "    print(len(data.X))\n",
    "    file_name = \"{:s}.png\".format(data.meta['condition'])\n",
    "    mlmodel.vis_validation(t=data.meta['steps'], x=data.X, y=data.Y, phi_net=phi_net, h_net=h_net, \n",
    "                           idx_adapt_start=eval_adapt_start, idx_adapt_end=eval_adapt_end, \n",
    "                           idx_val_start=eval_val_start, idx_val_end=eval_val_end, c=TestData[i].C, options=options,\n",
    "                           output_path_prefix=vis_output_path_prefix_testing_data, output_name=file_name)"
   ]
  },
  {
   "cell_type": "code",
   "execution_count": null,
   "metadata": {},
   "outputs": [],
   "source": [
    "for data in TestData:\n",
    "    image_name = \"{:s}_errors_hist.png\".format(data.meta['condition'])\n",
    "    error_1, error_2, error_3 = mlmodel.error_statistics_hist(data.X, data.Y, phi_net, h_net, options, vis_output_path_prefix_testing_data, image_name)\n",
    "    print('**** :', data.meta['condition'], '****')\n",
    "    print(f'Before learning: MSE is {error_1: .2f}')\n",
    "    print(f'Mean predictor: MSE is {error_2: .2f}')\n",
    "    print(f'After learning phi(x): MSE is {error_3: .2f}')\n",
    "    print('')"
   ]
  },
  {
   "cell_type": "code",
   "execution_count": null,
   "metadata": {},
   "outputs": [],
   "source": [
    "print(final_model.phi.options['device'])\n",
    "final_model.phi.options['device'] = 'cpu'\n",
    "final_model.phi.options['device']"
   ]
  },
  {
   "cell_type": "code",
   "execution_count": null,
   "metadata": {},
   "outputs": [],
   "source": [
    "final_model.phi.to('cpu')\n",
    "\n",
    "# convert the trained python model to a Torch.Script model\n",
    "# An example input you would normally provide to your model's forward() method.\n",
    "example = torch.rand(1, 36).to('cpu')\n",
    "\n",
    "# Use torch.jit.trace to generate a torch.jit.ScriptModule via tracing.\n",
    "traced_script_module = torch.jit.trace(final_model.phi, example)\n",
    "\n",
    "# Use torch.jit.trace to generate a torch.jit.ScriptModule via tracing.\n",
    "traced_script_module = torch.jit.trace(final_model.phi, example)\n",
    "\n",
    "# testing the traced output\n",
    "print(traced_script_module(example))\n",
    "\n",
    "traced_script_module.cpu()\n",
    "\n",
    "# save-out the scripted model _cmd_residual_96_128_h20_e10K\n",
    "traced_script_module.save(\"traced_rina_model_cmd_error_centered_a16_96_128_h20_e10K.pt\")"
   ]
  },
  {
   "cell_type": "code",
   "execution_count": null,
   "metadata": {},
   "outputs": [],
   "source": []
  }
 ],
 "metadata": {
  "interpreter": {
   "hash": "5932d0aacfea12ae558253bdaac47ff94f362ee7b8ad1d98be4f4f6b94d2042e"
  },
  "kernelspec": {
   "display_name": "Python 3.7.7 ('base')",
   "language": "python",
   "name": "python3"
  },
  "language_info": {
   "codemirror_mode": {
    "name": "ipython",
    "version": 3
   },
   "file_extension": ".py",
   "mimetype": "text/x-python",
   "name": "python",
   "nbconvert_exporter": "python",
   "pygments_lexer": "ipython3",
   "version": "3.12.1"
  },
  "metadata": {
   "interpreter": {
    "hash": "efbe968048790da5e26fe224257c59db0c3c3cb10bbad9ca12250f2d56e94a61"
   }
  },
  "orig_nbformat": 2
 },
 "nbformat": 4,
 "nbformat_minor": 2
}
